{
 "cells": [
  {
   "cell_type": "code",
   "execution_count": 177,
   "id": "64b196e6",
   "metadata": {},
   "outputs": [],
   "source": [
    "import pandas as pd\n",
    "import numpy as np\n",
    "\n",
    "from nltk.tokenize import word_tokenize\n",
    "from nltk.corpus import stopwords\n",
    "\n",
    "from nltk.stem.porter import PorterStemmer\n",
    "\n",
    "from sklearn.feature_extraction.text import TfidfVectorizer\n",
    "from sklearn.cluster import KMeans\n",
    "from collections import Counter\n",
    "from scipy.stats import chisquare"
   ]
  },
  {
   "cell_type": "code",
   "execution_count": 178,
   "id": "0e7755fc",
   "metadata": {},
   "outputs": [
    {
     "name": "stdout",
     "output_type": "stream",
     "text": [
      "Starting number of documents: 24711\n"
     ]
    }
   ],
   "source": [
    "df = pd.read_csv('2022VAERSData.csv', encoding='cp1252', low_memory=False)\n",
    "df.dropna(subset=[\"SYMPTOM_TEXT\"], inplace=True, axis=0)\n",
    "df = df.reset_index()\n",
    "\n",
    "\n",
    "def is_serious(row):\n",
    "    columns = [\"DIED\", \"ER_VISIT\", \"HOSPITAL\", \"DISABLE\"]\n",
    "    for val in row[columns]:\n",
    "        if isinstance(val, str) and val.upper() == \"Y\":\n",
    "            return True\n",
    "    return False\n",
    "\n",
    "\n",
    "df[\"SERIOUS\"] = df.apply(is_serious, axis=1)\n",
    "print(f\"Starting number of documents: {len(df)}\")"
   ]
  },
  {
   "cell_type": "markdown",
   "id": "420856fb",
   "metadata": {},
   "source": [
    "# Deliverable 1:\n",
    "\n",
    "## Clustering the documents\n",
    "\n",
    "Overall goal:  \n",
    "Without using the target variable, Serious, DISABLED, DIED, ER_VISIT, and HOSPITAL, and Score in data, cluster the rows of the data set into both a given number of clusters.\n"
   ]
  },
  {
   "cell_type": "markdown",
   "id": "4b847a84",
   "metadata": {},
   "source": [
    "For this we will use only the symptom text since all other variables are discrete and easy to cluster by.\n"
   ]
  },
  {
   "cell_type": "code",
   "execution_count": 179,
   "id": "634eacaa",
   "metadata": {},
   "outputs": [],
   "source": [
    "data = df['SYMPTOM_TEXT']\n",
    "data = np.array(data)"
   ]
  },
  {
   "cell_type": "code",
   "execution_count": 180,
   "id": "eb6a651f",
   "metadata": {},
   "outputs": [],
   "source": [
    "stop_words = set(\n",
    "    stopwords.words('english') +\n",
    "    [\".\", \":\", \";\", \"(\", \")\", \",\", \"#\", \"'\", \"\\\"\", '!', '$', '%', '&', \"''\"])\n",
    "\n",
    "porter = PorterStemmer()\n",
    "\n",
    "\n",
    "def stopword_remover(lst):\n",
    "    return [word for word in lst if word not in stop_words]\n",
    "\n",
    "\n",
    "def stemmer(lst):\n",
    "    return [porter.stem(word) for word in lst if word]\n",
    "\n",
    "\n",
    "def text_preprocess(d):\n",
    "    tokens = np.array([word_tokenize(i) for i in d], dtype=object)\n",
    "    tok_fil = [stopword_remover(doc) for doc in tokens]\n",
    "    tok_stem = [stemmer(doc) for doc in tok_fil]\n",
    "    return tok_stem"
   ]
  },
  {
   "cell_type": "code",
   "execution_count": 181,
   "id": "2a14e9bc",
   "metadata": {},
   "outputs": [],
   "source": [
    "data_processed = text_preprocess(data)"
   ]
  },
  {
   "cell_type": "code",
   "execution_count": 182,
   "id": "d4fd0efd",
   "metadata": {},
   "outputs": [
    {
     "data": {
      "text/plain": [
       "'SUSPECTED CLINICAL VACCINATION FAILURE; SUSPECTED COVID-19 INFECTION; This spontaneous potential legal report received from a patient concerned a patient of unspecified age and sex. Initial information was processed along with the additional information received from a regulatory authority on 30-DEC-2021. The patient\\'s height, and weight were not reported. No past medical history or concurrent conditions were reported. The patient received covid-19 vaccine ad26.cov2.s (dose number in series: 1) (suspension for injection, route of admin not reported, batch number: Unknown and expiry: UNKNOWN) dose, start therapy date were not reported, administered 1 in total for prophylactic vaccination. The batch number was not reported. The Company is unable to perform follow-up to request batch/lot numbers. No concomitant medications were reported.  It was reported that on an unspecified dates, the patient caught covid twice(coded as suspected covid-19 infection and suspected clinical vaccination failure) and reporter also stated that \"If anyone is doing a class action lawsuit against these clowns, hit me up. I want in\". The action taken with covid-19 vaccine ad26.cov2.s was not applicable. The outcome of the suspected covid-19 infection and suspected clinical vaccination failure was not reported. This report was serious (Other Medically Important Condition). This report was associated with a product quality complaint 90000209391. The suspected product quality complaint has been confirmed to be voided(did not meet RA criteria) (as reported complaint was covid with no symptoms and test performed therefore did not meet RA criteria, hence was confirmed as voided) based on the RA evaluation/investigation performed.; Sender\\'s Comments: V0: 20211263430 -Covid-19 vaccine ad26.cov2.s-Suspected clinical Vaccination failure. This event(s) is considered not related. The event(s) has a compatible/suggestive temporal relationship, is unlabeled, and has unknown scientific plausibility. There are other factors more likely to be associated with the event(s) than the drug. Specifically: SPECIAL SITUATIONS'"
      ]
     },
     "execution_count": 182,
     "metadata": {},
     "output_type": "execute_result"
    }
   ],
   "source": [
    "data[1]  # original document (SYMPTOM_TEXT column)"
   ]
  },
  {
   "cell_type": "code",
   "execution_count": 183,
   "id": "aab07834",
   "metadata": {},
   "outputs": [
    {
     "data": {
      "text/plain": [
       "['suspect',\n",
       " 'clinic',\n",
       " 'vaccin',\n",
       " 'failur',\n",
       " 'suspect',\n",
       " 'covid-19',\n",
       " 'infect',\n",
       " 'thi',\n",
       " 'spontan',\n",
       " 'potenti']"
      ]
     },
     "execution_count": 183,
     "metadata": {},
     "output_type": "execute_result"
    }
   ],
   "source": [
    "data_processed[1][:10]\n",
    "# stems of terms from the document with punctuation and stopwords excluded"
   ]
  },
  {
   "cell_type": "markdown",
   "id": "1b230140",
   "metadata": {},
   "source": [
    "Below we create a TF-IDF matrix and use it with sklearn's implementation of KMeans Clustering to cluster our documents\n"
   ]
  },
  {
   "cell_type": "code",
   "execution_count": 184,
   "id": "441e5313",
   "metadata": {},
   "outputs": [],
   "source": [
    "NUM_CLUSTERS = 10\n",
    "\n",
    "vectorizer = TfidfVectorizer(tokenizer=lambda i: i, lowercase=False)\n",
    "doc_term_matrix = vectorizer.fit_transform(data_processed)\n",
    "km = KMeans(n_clusters=NUM_CLUSTERS)\n",
    "clusters = km.fit_transform(doc_term_matrix)"
   ]
  },
  {
   "cell_type": "code",
   "execution_count": 185,
   "id": "97d7835e",
   "metadata": {},
   "outputs": [
    {
     "name": "stdout",
     "output_type": "stream",
     "text": [
      "Matrix dimensions: 24711 x 33840\n",
      "Num documents: 24711, Num terms: 33840\n"
     ]
    }
   ],
   "source": [
    "# we are returned a numpy sparse matrix, converting to a traditional array for simpler accessing and usage later\n",
    "doc_term_matrix = doc_term_matrix.toarray()\n",
    "terms = vectorizer.get_feature_names_out()\n",
    "print(f\"Matrix dimensions: {len(doc_term_matrix)} x {len(doc_term_matrix[0])}\")\n",
    "print(f\"Num documents: {len(data_processed)}, Num terms: {len(terms)}\")"
   ]
  },
  {
   "cell_type": "code",
   "execution_count": 186,
   "id": "acfd6463",
   "metadata": {},
   "outputs": [
    {
     "name": "stdout",
     "output_type": "stream",
     "text": [
      "[\"'bursiti\" \"'caller\" \"'chronic\" \"'clock\" \"'clonidin\" \"'close\" \"'coconut\"\n",
      " \"'congenit\" \"'contain\" \"'coupl\"]\n"
     ]
    }
   ],
   "source": [
    "print(terms[10:20])"
   ]
  },
  {
   "cell_type": "markdown",
   "id": "09ba391c",
   "metadata": {},
   "source": [
    "Example words with tf-idf values for document 0\n"
   ]
  },
  {
   "cell_type": "code",
   "execution_count": 187,
   "id": "ebdc11cf",
   "metadata": {},
   "outputs": [
    {
     "name": "stdout",
     "output_type": "stream",
     "text": [
      "date 0.05809711063342075\n",
      "event 0.06976337740806901\n",
      "excurs 0.09043640930109825\n",
      "experi 0.11587188651559706\n",
      "expir 0.2685139372913047\n",
      "frequenc 0.11559960285534095\n",
      "gardasil 0.18088298958406868\n",
      "gender 0.10535311717275656\n",
      "histori 0.055034417858322096\n",
      "hpv 0.1765701887734298\n"
     ]
    }
   ],
   "source": [
    "words_found = 0  # limit to 10\n",
    "for i in range(15000, len(doc_term_matrix[0])):\n",
    "    if words_found == 10:\n",
    "        break\n",
    "    if doc_term_matrix[0][i] != 0:\n",
    "        words_found += 1\n",
    "        print(terms[i], doc_term_matrix[0][i])\n"
   ]
  },
  {
   "cell_type": "markdown",
   "id": "867250b8",
   "metadata": {},
   "source": [
    "doc_term_matrix is our TF-IDF matrix which is indexed by the document id (location in our original data/list of documents)\\\n",
    "The y axis indicies are the indices of the term in our \"terms\" array\\\n",
    "A zero value indiciates the term is not present in the document, a non zero value is the calculated tf-idf value\n"
   ]
  },
  {
   "cell_type": "code",
   "execution_count": 188,
   "id": "2d033bd5",
   "metadata": {},
   "outputs": [
    {
     "data": {
      "text/plain": [
       "array([[1.01283789, 0.93808449, 1.34471716, ..., 0.99573712, 1.06374519,\n",
       "        1.17247838],\n",
       "       [0.99068622, 0.96628939, 1.32328094, ..., 0.99112723, 1.04435309,\n",
       "        1.14216012],\n",
       "       [0.98787647, 0.96700522, 1.32333229, ..., 0.98329058, 1.04851699,\n",
       "        1.13003186],\n",
       "       ...,\n",
       "       [1.02188448, 1.0046347 , 1.35000376, ..., 0.9999387 , 1.06384463,\n",
       "        1.18307735],\n",
       "       [1.02059458, 1.00512282, 1.35011876, ..., 1.00002143, 1.0639855 ,\n",
       "        1.18331655],\n",
       "       [1.0233707 , 1.00743541, 1.35036285, ..., 1.00093077, 1.06520125,\n",
       "        1.18382416]])"
      ]
     },
     "execution_count": 188,
     "metadata": {},
     "output_type": "execute_result"
    }
   ],
   "source": [
    "clusters"
   ]
  },
  {
   "cell_type": "code",
   "execution_count": 189,
   "id": "45a49814",
   "metadata": {},
   "outputs": [
    {
     "data": {
      "text/plain": [
       "array([1.01283789, 0.93808449, 1.34471716, 1.34657479, 1.00192982,\n",
       "       1.28700389, 0.96232353, 0.99573712, 1.06374519, 1.17247838])"
      ]
     },
     "execution_count": 189,
     "metadata": {},
     "output_type": "execute_result"
    }
   ],
   "source": [
    "clusters[0]  # distances from document 0 to each of the 10 cluster centers"
   ]
  },
  {
   "cell_type": "markdown",
   "id": "4313ae1c",
   "metadata": {},
   "source": [
    "\"clusters\" is our transformed matrix, there are rows for each document as before, but there are now 10 (chosen number of clusters) integer values which are the L2 norm distance (Euclidian distance) to the center of each of the (0,1,...9) clusters.\n"
   ]
  },
  {
   "cell_type": "code",
   "execution_count": 190,
   "id": "9d79f6c7",
   "metadata": {},
   "outputs": [],
   "source": [
    "predictions = km.predict(doc_term_matrix)"
   ]
  },
  {
   "cell_type": "markdown",
   "id": "142a0998",
   "metadata": {},
   "source": [
    "The predicitions variable is an array of our documents with the cluster it is in. Below is an example of the output.\n"
   ]
  },
  {
   "cell_type": "code",
   "execution_count": 191,
   "id": "bead23ea",
   "metadata": {},
   "outputs": [
    {
     "name": "stdout",
     "output_type": "stream",
     "text": [
      "Document 0 belongs to cluster: 1\n",
      "Document text: ['thi', 'spontan', 'report', 'receiv', 'pharmacist', 'refer', 'patient', 'unknown', 'age', 'gender']\n",
      "Document 1 belongs to cluster: 4\n",
      "Document text: ['suspect', 'clinic', 'vaccin', 'failur', 'suspect', 'covid-19', 'infect', 'thi', 'spontan', 'potenti']\n",
      "Document 2 belongs to cluster: 6\n",
      "Document text: ['suspect', 'clinic', 'vaccin', 'failur', 'suspect', 'covid-19', 'infect', 'thi', 'spontan', 'report']\n",
      "Document 3 belongs to cluster: 4\n",
      "Document text: ['irregular', 'menstrual', 'cycl', 'period', 'extrem', 'heavi', 'bad', 'cramp', 'thi', 'spontan']\n",
      "Document 4 belongs to cluster: 4\n",
      "Document text: ['breakthrough', 'heavi', 'period', 'longer', 'period', 'length', 'thi', 'spontan', 'report', 'receiv']\n"
     ]
    }
   ],
   "source": [
    "for doc in range(0, 5):\n",
    "    print(f\"Document {doc} belongs to cluster: {predictions[doc]}\")\n",
    "    print(f\"Document text: {data_processed[doc][:10]}\")"
   ]
  },
  {
   "cell_type": "markdown",
   "id": "d57d9918",
   "metadata": {},
   "source": [
    "# Deliverable 2:\n",
    "Using the clusters and the frequency of serious cases within each cluster, we will test whether being in a cluster has a statistical significance of the document being serious. The null hypothesis is that there is no relationship. "
   ]
  },
  {
   "cell_type": "code",
   "execution_count": 192,
   "id": "779e00a6",
   "metadata": {},
   "outputs": [
    {
     "data": {
      "text/html": [
       "<div>\n",
       "<style scoped>\n",
       "    .dataframe tbody tr th:only-of-type {\n",
       "        vertical-align: middle;\n",
       "    }\n",
       "\n",
       "    .dataframe tbody tr th {\n",
       "        vertical-align: top;\n",
       "    }\n",
       "\n",
       "    .dataframe thead th {\n",
       "        text-align: right;\n",
       "    }\n",
       "</style>\n",
       "<table border=\"1\" class=\"dataframe\">\n",
       "  <thead>\n",
       "    <tr style=\"text-align: right;\">\n",
       "      <th></th>\n",
       "      <th>SYMPTOM_TEXT</th>\n",
       "      <th>SERIOUS</th>\n",
       "      <th>CLUSTER</th>\n",
       "    </tr>\n",
       "  </thead>\n",
       "  <tbody>\n",
       "    <tr>\n",
       "      <th>0</th>\n",
       "      <td>This spontaneous report was received from a ph...</td>\n",
       "      <td>False</td>\n",
       "      <td>1</td>\n",
       "    </tr>\n",
       "    <tr>\n",
       "      <th>100</th>\n",
       "      <td>got an ear infection on both ears with perfora...</td>\n",
       "      <td>False</td>\n",
       "      <td>4</td>\n",
       "    </tr>\n",
       "    <tr>\n",
       "      <th>200</th>\n",
       "      <td>This case involves a 27 years old male patient...</td>\n",
       "      <td>False</td>\n",
       "      <td>6</td>\n",
       "    </tr>\n",
       "    <tr>\n",
       "      <th>300</th>\n",
       "      <td>Chills, fatigue, night sweats, fever, congesti...</td>\n",
       "      <td>False</td>\n",
       "      <td>7</td>\n",
       "    </tr>\n",
       "    <tr>\n",
       "      <th>400</th>\n",
       "      <td>pain, followed by swelling,loss of arm movemen...</td>\n",
       "      <td>False</td>\n",
       "      <td>7</td>\n",
       "    </tr>\n",
       "    <tr>\n",
       "      <th>500</th>\n",
       "      <td>Fever of 100.6F, headache, body ache and chills</td>\n",
       "      <td>False</td>\n",
       "      <td>7</td>\n",
       "    </tr>\n",
       "    <tr>\n",
       "      <th>600</th>\n",
       "      <td>I am a 63-year-old male. I received the Modern...</td>\n",
       "      <td>False</td>\n",
       "      <td>8</td>\n",
       "    </tr>\n",
       "    <tr>\n",
       "      <th>700</th>\n",
       "      <td>The patient received his first dose of the Jan...</td>\n",
       "      <td>False</td>\n",
       "      <td>1</td>\n",
       "    </tr>\n",
       "    <tr>\n",
       "      <th>800</th>\n",
       "      <td>hives, treated with benadryl</td>\n",
       "      <td>False</td>\n",
       "      <td>7</td>\n",
       "    </tr>\n",
       "    <tr>\n",
       "      <th>900</th>\n",
       "      <td>Stabbing Chest pains from a few hours after sh...</td>\n",
       "      <td>False</td>\n",
       "      <td>7</td>\n",
       "    </tr>\n",
       "  </tbody>\n",
       "</table>\n",
       "</div>"
      ],
      "text/plain": [
       "                                          SYMPTOM_TEXT  SERIOUS  CLUSTER\n",
       "0    This spontaneous report was received from a ph...    False        1\n",
       "100  got an ear infection on both ears with perfora...    False        4\n",
       "200  This case involves a 27 years old male patient...    False        6\n",
       "300  Chills, fatigue, night sweats, fever, congesti...    False        7\n",
       "400  pain, followed by swelling,loss of arm movemen...    False        7\n",
       "500    Fever of 100.6F, headache, body ache and chills    False        7\n",
       "600  I am a 63-year-old male. I received the Modern...    False        8\n",
       "700  The patient received his first dose of the Jan...    False        1\n",
       "800                       hives, treated with benadryl    False        7\n",
       "900  Stabbing Chest pains from a few hours after sh...    False        7"
      ]
     },
     "execution_count": 192,
     "metadata": {},
     "output_type": "execute_result"
    }
   ],
   "source": [
    "# row.name gives the index in the dataframe, predictions[document_id] gives us the cluster\n",
    "# adding a cluster column to our dataframe\n",
    "df[\"CLUSTER\"] = df.apply(lambda row: predictions[row.name], axis=1)\n",
    "df[[\"SYMPTOM_TEXT\", \"SERIOUS\", \"CLUSTER\"]][:1000:100]"
   ]
  },
  {
   "cell_type": "code",
   "execution_count": 193,
   "id": "0c862380",
   "metadata": {},
   "outputs": [
    {
     "data": {
      "text/html": [
       "<div>\n",
       "<style scoped>\n",
       "    .dataframe tbody tr th:only-of-type {\n",
       "        vertical-align: middle;\n",
       "    }\n",
       "\n",
       "    .dataframe tbody tr th {\n",
       "        vertical-align: top;\n",
       "    }\n",
       "\n",
       "    .dataframe thead th {\n",
       "        text-align: right;\n",
       "    }\n",
       "</style>\n",
       "<table border=\"1\" class=\"dataframe\">\n",
       "  <thead>\n",
       "    <tr style=\"text-align: right;\">\n",
       "      <th></th>\n",
       "      <th>SYMPTOM_TEXT</th>\n",
       "      <th>SERIOUS</th>\n",
       "      <th>CLUSTER</th>\n",
       "    </tr>\n",
       "  </thead>\n",
       "  <tbody>\n",
       "    <tr>\n",
       "      <th>235</th>\n",
       "      <td>After vaccine I am experiencing numbness in my...</td>\n",
       "      <td>True</td>\n",
       "      <td>8</td>\n",
       "    </tr>\n",
       "    <tr>\n",
       "      <th>236</th>\n",
       "      <td>Bilateral large pulmonary emboli with right ve...</td>\n",
       "      <td>True</td>\n",
       "      <td>0</td>\n",
       "    </tr>\n",
       "    <tr>\n",
       "      <th>258</th>\n",
       "      <td>Multiple episodes of syncope resulting in faci...</td>\n",
       "      <td>True</td>\n",
       "      <td>7</td>\n",
       "    </tr>\n",
       "    <tr>\n",
       "      <th>289</th>\n",
       "      <td>I experienced a pounding heartbeat and chest t...</td>\n",
       "      <td>True</td>\n",
       "      <td>8</td>\n",
       "    </tr>\n",
       "    <tr>\n",
       "      <th>308</th>\n",
       "      <td>12/27 - chills and body aches. Light pain in h...</td>\n",
       "      <td>True</td>\n",
       "      <td>7</td>\n",
       "    </tr>\n",
       "    <tr>\n",
       "      <th>321</th>\n",
       "      <td>2/04/2021 Experienced stabbing R peri-orbital ...</td>\n",
       "      <td>True</td>\n",
       "      <td>7</td>\n",
       "    </tr>\n",
       "    <tr>\n",
       "      <th>324</th>\n",
       "      <td>December 28, 2021 - Moderna 1 January 30, 2021...</td>\n",
       "      <td>True</td>\n",
       "      <td>8</td>\n",
       "    </tr>\n",
       "    <tr>\n",
       "      <th>325</th>\n",
       "      <td>On April 12 2021, I suddenly heard a loud nois...</td>\n",
       "      <td>True</td>\n",
       "      <td>7</td>\n",
       "    </tr>\n",
       "    <tr>\n",
       "      <th>327</th>\n",
       "      <td>Fatigue, nausea, vomiting, vertigo, brain fog</td>\n",
       "      <td>True</td>\n",
       "      <td>7</td>\n",
       "    </tr>\n",
       "    <tr>\n",
       "      <th>334</th>\n",
       "      <td>chest pain on 12/20/21 intermittently, then co...</td>\n",
       "      <td>True</td>\n",
       "      <td>7</td>\n",
       "    </tr>\n",
       "  </tbody>\n",
       "</table>\n",
       "</div>"
      ],
      "text/plain": [
       "                                          SYMPTOM_TEXT  SERIOUS  CLUSTER\n",
       "235  After vaccine I am experiencing numbness in my...     True        8\n",
       "236  Bilateral large pulmonary emboli with right ve...     True        0\n",
       "258  Multiple episodes of syncope resulting in faci...     True        7\n",
       "289  I experienced a pounding heartbeat and chest t...     True        8\n",
       "308  12/27 - chills and body aches. Light pain in h...     True        7\n",
       "321  2/04/2021 Experienced stabbing R peri-orbital ...     True        7\n",
       "324  December 28, 2021 - Moderna 1 January 30, 2021...     True        8\n",
       "325  On April 12 2021, I suddenly heard a loud nois...     True        7\n",
       "327      Fatigue, nausea, vomiting, vertigo, brain fog     True        7\n",
       "334  chest pain on 12/20/21 intermittently, then co...     True        7"
      ]
     },
     "execution_count": 193,
     "metadata": {},
     "output_type": "execute_result"
    }
   ],
   "source": [
    "serious_docs = df.loc[df[\"SERIOUS\"] == True]\n",
    "serious_docs[[\"SYMPTOM_TEXT\", \"SERIOUS\", \"CLUSTER\"]][:10]"
   ]
  },
  {
   "cell_type": "code",
   "execution_count": 194,
   "id": "97d8bfd7",
   "metadata": {},
   "outputs": [
    {
     "name": "stdout",
     "output_type": "stream",
     "text": [
      "Number of serious cases: 4332\n"
     ]
    }
   ],
   "source": [
    "print(f\"Number of serious cases: {len(serious_docs)}\")"
   ]
  },
  {
   "cell_type": "code",
   "execution_count": 195,
   "id": "35b2a5bc",
   "metadata": {},
   "outputs": [
    {
     "name": "stdout",
     "output_type": "stream",
     "text": [
      "Counter({0: 1886, 7: 1561, 8: 269, 2: 229, 4: 201, 6: 99, 1: 47, 9: 40, 3: 0, 5: 0})\n"
     ]
    }
   ],
   "source": [
    "freq_of_clusters = list(Counter(df[\"CLUSTER\"]).items())\n",
    "freq_of_clusters.sort(key=lambda clus_count: clus_count[0])\n",
    "\n",
    "init_counts = dict()\n",
    "for cluster_num in range(NUM_CLUSTERS):\n",
    "    init_counts[cluster_num] = 0\n",
    "cluster_serious_counts = Counter(init_counts)\n",
    "\n",
    "cluster_serious_counts.update(serious_docs[\"CLUSTER\"])\n",
    "print(cluster_serious_counts)"
   ]
  },
  {
   "cell_type": "code",
   "execution_count": 196,
   "id": "c8de48f1",
   "metadata": {},
   "outputs": [
    {
     "name": "stdout",
     "output_type": "stream",
     "text": [
      "[1886, 47, 229, 0, 201, 0, 99, 1561, 269, 40]\n",
      "9916.684210526317 0.0\n"
     ]
    }
   ],
   "source": [
    "print(list(cluster_serious_counts.values()))\n",
    "chi_sq, p = chisquare(list(cluster_serious_counts.values()))\n",
    "print(chi_sq,p)"
   ]
  },
  {
   "cell_type": "markdown",
   "id": "1ddd6ce6",
   "metadata": {},
   "source": [
    "# Deliverable 3:\n",
    "\n",
    "## Classifying the generated clusters\n"
   ]
  },
  {
   "cell_type": "markdown",
   "id": "4e5805ec",
   "metadata": {},
   "source": [
    "### Analyzing the clusters by count of serious cases\n"
   ]
  },
  {
   "cell_type": "code",
   "execution_count": 197,
   "id": "3e4b4bc7",
   "metadata": {},
   "outputs": [
    {
     "name": "stdout",
     "output_type": "stream",
     "text": [
      "Cluster 0: 1886 serious cases 364 non serious cases (83.82% serious)\n",
      "Cluster 1: 47 serious cases 3094 non serious cases (1.50% serious)\n",
      "Cluster 2: 229 serious cases 74 non serious cases (75.58% serious)\n",
      "Cluster 3: 0 serious cases 841 non serious cases (0.00% serious)\n",
      "Cluster 4: 201 serious cases 2917 non serious cases (6.45% serious)\n",
      "Cluster 5: 0 serious cases 255 non serious cases (0.00% serious)\n",
      "Cluster 6: 99 serious cases 2116 non serious cases (4.47% serious)\n",
      "Cluster 7: 1561 serious cases 8200 non serious cases (15.99% serious)\n",
      "Cluster 8: 269 serious cases 2146 non serious cases (11.14% serious)\n",
      "Cluster 9: 40 serious cases 372 non serious cases (9.71% serious)\n"
     ]
    }
   ],
   "source": [
    "init_counts = dict()\n",
    "for cluster_num in range(NUM_CLUSTERS):\n",
    "    init_counts[cluster_num] = 0\n",
    "\n",
    "# initializing counter in case we have a cluster that does not appear, we would want a count of 0\n",
    "# and not have the cluster be undefined in the counter\n",
    "\n",
    "cluster_non_serious_counts = Counter(\n",
    "    df[\"CLUSTER\"]) - cluster_serious_counts  # total count - serious\n",
    "\n",
    "cluster_percent_serious = dict()\n",
    "\n",
    "for cluster, serious_count in cluster_serious_counts.items():\n",
    "    non_serious_count = cluster_non_serious_counts[cluster]\n",
    "    percent_serious = (serious_count /\n",
    "                       (serious_count + non_serious_count)) * 100\n",
    "    cluster_percent_serious[cluster] = percent_serious\n",
    "    print(\n",
    "        f\"Cluster {cluster}: {serious_count} serious cases {non_serious_count} non serious cases ({percent_serious:.2f}% serious)\"\n",
    "    )"
   ]
  },
  {
   "cell_type": "markdown",
   "id": "b473e97e",
   "metadata": {},
   "source": [
    "### Finding average age for each cluster, analyzing sex frequency\n"
   ]
  },
  {
   "cell_type": "code",
   "execution_count": 198,
   "id": "1a526a27",
   "metadata": {},
   "outputs": [
    {
     "name": "stdout",
     "output_type": "stream",
     "text": [
      "Cluster 0: Average age 32.24, 50.69% M, 49.31% F\n",
      "Cluster 1: Average age 16.09, 45.71% M, 54.29% F\n",
      "Cluster 2: Average age 30.29, 51.32% M, 48.68% F\n",
      "Cluster 3: Average age 18.81, 63.86% M, 36.14% F\n",
      "Cluster 4: Average age 17.45, 35.66% M, 64.34% F\n",
      "Cluster 5: Average age 14.89, 46.85% M, 53.15% F\n",
      "Cluster 6: Average age 18.32, 38.24% M, 61.76% F\n",
      "Cluster 7: Average age 21.82, 35.54% M, 64.46% F\n",
      "Cluster 8: Average age 22.82, 23.23% M, 76.77% F\n",
      "Cluster 9: Average age 24.54, 44.55% M, 55.45% F\n"
     ]
    }
   ],
   "source": [
    "cluster_age_sum = dict()\n",
    "cluster_ages_found = dict()\n",
    "cluster_sex_count = dict()  # ignoring rows with value U or N/A\n",
    "cluster_avg_age = dict()\n",
    "\n",
    "for cluster in range(NUM_CLUSTERS):\n",
    "    cluster_age_sum[cluster] = 0\n",
    "    cluster_ages_found[cluster] = 0\n",
    "    cluster_avg_age[cluster] = None\n",
    "    cluster_sex_count[cluster] = {\"M\": 0, \"F\": 0}\n",
    "\n",
    "for sex, cluster in zip(df[\"SEX\"], df[\"CLUSTER\"]):\n",
    "    if isinstance(sex, str):\n",
    "        cluster_ages_found[cluster] += 1\n",
    "        if sex == \"M\":\n",
    "            cluster_sex_count[cluster][\"M\"] += 1\n",
    "        elif sex == \"F\":\n",
    "            cluster_sex_count[cluster][\"F\"] += 1\n",
    "\n",
    "for age, cluster in zip(df[\"AGE_YRS\"], df[\"CLUSTER\"]):\n",
    "    if isinstance(age, (int, float)) and not np.isnan(age):\n",
    "        cluster_ages_found[cluster] += 1\n",
    "        cluster_age_sum[cluster] += age\n",
    "\n",
    "for cluster, age_sum in cluster_age_sum.items():\n",
    "    cluster_avg_age[cluster] = age_sum / cluster_ages_found[cluster]\n",
    "\n",
    "cluster_sex_pct = dict()\n",
    "\n",
    "for cluster, sex_counts in cluster_sex_count.items():\n",
    "    m_count, f_count = sex_counts.values()\n",
    "    total = m_count + f_count\n",
    "    cluster_sex_pct[cluster] = {\n",
    "        \"M\": (m_count / total) * 100,\n",
    "        \"F\": (f_count / total) * 100\n",
    "    }\n",
    "\n",
    "for cluster in range(NUM_CLUSTERS):\n",
    "    pct_male = cluster_sex_pct[cluster][\"M\"]\n",
    "    pct_female = cluster_sex_pct[cluster][\"F\"]\n",
    "    print(\n",
    "        f\"Cluster {cluster}: Average age {cluster_avg_age[cluster]:.2f}, {pct_male:.2f}% M, {pct_female:.2f}% F\"\n",
    "    )\n"
   ]
  },
  {
   "cell_type": "code",
   "execution_count": 199,
   "id": "9b3d7573",
   "metadata": {},
   "outputs": [
    {
     "name": "stdout",
     "output_type": "stream",
     "text": [
      "Cluster 0: Older population, Males and Females, Many serious cases\n",
      "Cluster 1: Young population, Males and Females, Few serious cases\n",
      "Cluster 2: Older population, Males and Females, Many serious cases\n",
      "Cluster 3: Mostly Males, No serious cases\n",
      "Cluster 4: Young population, Mostly Females, Few serious cases\n",
      "Cluster 5: Young population, Males and Females, No serious cases\n",
      "Cluster 6: Mostly Females, Few serious cases\n",
      "Cluster 7: Mostly Females, Some serious cases\n",
      "Cluster 8: Mostly Females, Some serious cases\n",
      "Cluster 9: Mostly Females, Few serious cases\n"
     ]
    }
   ],
   "source": [
    "for cluster in range(NUM_CLUSTERS):\n",
    "    description = \"\"\n",
    "\n",
    "    avg_age = cluster_avg_age[cluster]\n",
    "    if avg_age < 18:\n",
    "        description += \"Young population, \"\n",
    "    elif avg_age >= 25:\n",
    "        description += \"Older population, \"\n",
    "\n",
    "    pct_male, pct_female = cluster_sex_pct[cluster].values()\n",
    "\n",
    "    if abs(pct_male - pct_female) > 10:\n",
    "        if pct_male > pct_female:\n",
    "            description += \"Mostly Males, \"\n",
    "        else:\n",
    "            description += \"Mostly Females, \"\n",
    "    else:\n",
    "        description += \"Males and Females, \"\n",
    "\n",
    "    pct_serious = cluster_percent_serious[cluster]\n",
    "\n",
    "    if pct_serious == 0:\n",
    "        description += \"No serious cases\"\n",
    "    elif pct_serious < 10:\n",
    "        description += \"Few serious cases\"\n",
    "    elif pct_serious > 30:\n",
    "        description += \"Many serious cases\"\n",
    "    else:\n",
    "        description += \"Some serious cases\"\n",
    "    print(f\"Cluster {cluster}: {description}\")\n"
   ]
  }
 ],
 "metadata": {
  "interpreter": {
   "hash": "aee8b7b246df8f9039afb4144a1f6fd8d2ca17a180786b69acc140d282b71a49"
  },
  "kernelspec": {
   "display_name": "cs553_env",
   "language": "python",
   "name": "python3"
  },
  "language_info": {
   "codemirror_mode": {
    "name": "ipython",
    "version": 3
   },
   "file_extension": ".py",
   "mimetype": "text/x-python",
   "name": "python",
   "nbconvert_exporter": "python",
   "pygments_lexer": "ipython3",
   "version": "3.10.0"
  }
 },
 "nbformat": 4,
 "nbformat_minor": 5
}
