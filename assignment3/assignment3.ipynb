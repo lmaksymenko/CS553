{
 "cells": [
  {
   "cell_type": "code",
   "execution_count": 261,
   "id": "64b196e6",
   "metadata": {},
   "outputs": [],
   "source": [
    "import pandas as pd\n",
    "import numpy as np\n",
    "\n",
    "from nltk.tokenize import word_tokenize\n",
    "from nltk.corpus import stopwords\n",
    "\n",
    "from nltk.stem.porter import PorterStemmer\n",
    "\n",
    "from sklearn.feature_extraction.text import TfidfVectorizer\n",
    "from sklearn.cluster import KMeans\n",
    "from collections import Counter"
   ]
  },
  {
   "cell_type": "code",
   "execution_count": 262,
   "id": "0e7755fc",
   "metadata": {},
   "outputs": [
    {
     "name": "stdout",
     "output_type": "stream",
     "text": [
      "Starting number of documents: 24711\n"
     ]
    }
   ],
   "source": [
    "df = pd.read_csv('2022VAERSData.csv', encoding='cp1252', low_memory=False)\n",
    "df.dropna(subset=[\"SYMPTOM_TEXT\"], inplace=True, axis=0)\n",
    "df = df.reset_index()\n",
    "\n",
    "\n",
    "def is_serious(row):\n",
    "    columns = [\"DIED\", \"ER_VISIT\", \"HOSPITAL\", \"DISABLE\"]\n",
    "    for val in row[columns]:\n",
    "        if isinstance(val, str) and val.upper() == \"Y\":\n",
    "            return True\n",
    "    return False\n",
    "\n",
    "\n",
    "df[\"SERIOUS\"] = df.apply(is_serious, axis=1)\n",
    "print(f\"Starting number of documents: {len(df)}\")"
   ]
  },
  {
   "cell_type": "markdown",
   "id": "420856fb",
   "metadata": {},
   "source": [
    "# Deliverable 1:\n",
    "\n",
    "## Clustering the documents\n",
    "\n",
    "Overall goal:  \n",
    "Without using the target variable, Serious, DISABLED, DIED, ER_VISIT, and HOSPITAL, and Score in data, cluster the rows of the data set into both a given number of clusters.\n"
   ]
  },
  {
   "cell_type": "markdown",
   "id": "4b847a84",
   "metadata": {},
   "source": [
    "For this we will use only the symptom text since all other variables are discrete and easy to cluster by.\n"
   ]
  },
  {
   "cell_type": "code",
   "execution_count": 263,
   "id": "634eacaa",
   "metadata": {},
   "outputs": [],
   "source": [
    "data = df['SYMPTOM_TEXT']\n",
    "data = np.array(data)"
   ]
  },
  {
   "cell_type": "code",
   "execution_count": 264,
   "id": "eb6a651f",
   "metadata": {},
   "outputs": [],
   "source": [
    "stop_words = set(\n",
    "    stopwords.words('english') +\n",
    "    [\".\", \":\", \";\", \"(\", \")\", \",\", \"#\", \"'\", \"\\\"\", '!', '$', '%', '&', \"''\"])\n",
    "    \n",
    "porter = PorterStemmer()\n",
    "\n",
    "\n",
    "def stopword_remover(lst):\n",
    "    return [word for word in lst if word not in stop_words]\n",
    "\n",
    "\n",
    "def stemmer(lst):\n",
    "    return [porter.stem(word) for word in lst if word]\n",
    "\n",
    "\n",
    "def text_preprocess(d):\n",
    "    tokens = np.array([word_tokenize(i) for i in d], dtype=object)\n",
    "    tok_fil = [stopword_remover(doc) for doc in tokens]\n",
    "    tok_stem = [stemmer(doc) for doc in tok_fil]\n",
    "    return tok_stem"
   ]
  },
  {
   "cell_type": "code",
   "execution_count": 265,
   "id": "2a14e9bc",
   "metadata": {},
   "outputs": [],
   "source": [
    "data_processed = text_preprocess(data)"
   ]
  },
  {
   "cell_type": "code",
   "execution_count": 266,
   "id": "d4fd0efd",
   "metadata": {},
   "outputs": [
    {
     "data": {
      "text/plain": [
       "'SUSPECTED CLINICAL VACCINATION FAILURE; SUSPECTED COVID-19 INFECTION; This spontaneous potential legal report received from a patient concerned a patient of unspecified age and sex. Initial information was processed along with the additional information received from a regulatory authority on 30-DEC-2021. The patient\\'s height, and weight were not reported. No past medical history or concurrent conditions were reported. The patient received covid-19 vaccine ad26.cov2.s (dose number in series: 1) (suspension for injection, route of admin not reported, batch number: Unknown and expiry: UNKNOWN) dose, start therapy date were not reported, administered 1 in total for prophylactic vaccination. The batch number was not reported. The Company is unable to perform follow-up to request batch/lot numbers. No concomitant medications were reported.  It was reported that on an unspecified dates, the patient caught covid twice(coded as suspected covid-19 infection and suspected clinical vaccination failure) and reporter also stated that \"If anyone is doing a class action lawsuit against these clowns, hit me up. I want in\". The action taken with covid-19 vaccine ad26.cov2.s was not applicable. The outcome of the suspected covid-19 infection and suspected clinical vaccination failure was not reported. This report was serious (Other Medically Important Condition). This report was associated with a product quality complaint 90000209391. The suspected product quality complaint has been confirmed to be voided(did not meet RA criteria) (as reported complaint was covid with no symptoms and test performed therefore did not meet RA criteria, hence was confirmed as voided) based on the RA evaluation/investigation performed.; Sender\\'s Comments: V0: 20211263430 -Covid-19 vaccine ad26.cov2.s-Suspected clinical Vaccination failure. This event(s) is considered not related. The event(s) has a compatible/suggestive temporal relationship, is unlabeled, and has unknown scientific plausibility. There are other factors more likely to be associated with the event(s) than the drug. Specifically: SPECIAL SITUATIONS'"
      ]
     },
     "execution_count": 266,
     "metadata": {},
     "output_type": "execute_result"
    }
   ],
   "source": [
    "data[1]  # original document (SYMPTOM_TEXT column)"
   ]
  },
  {
   "cell_type": "code",
   "execution_count": 267,
   "id": "aab07834",
   "metadata": {},
   "outputs": [
    {
     "data": {
      "text/plain": [
       "['suspect',\n",
       " 'clinic',\n",
       " 'vaccin',\n",
       " 'failur',\n",
       " 'suspect',\n",
       " 'covid-19',\n",
       " 'infect',\n",
       " 'thi',\n",
       " 'spontan',\n",
       " 'potenti']"
      ]
     },
     "execution_count": 267,
     "metadata": {},
     "output_type": "execute_result"
    }
   ],
   "source": [
    "data_processed[\n",
    "    1][:\n",
    "       10]  # stems of terms from the document with punctuation and stopwords excluded\n"
   ]
  },
  {
   "cell_type": "markdown",
   "id": "1b230140",
   "metadata": {},
   "source": [
    "Below we create a TF-IDF matrix and use it with sklearn's implementation of KMeans Clustering to cluster our documents\n"
   ]
  },
  {
   "cell_type": "code",
   "execution_count": 268,
   "id": "441e5313",
   "metadata": {},
   "outputs": [],
   "source": [
    "NUM_CLUSTERS = 10\n",
    "\n",
    "vectorizer = TfidfVectorizer(tokenizer=lambda i: i, lowercase=False)\n",
    "doc_term_matrix = vectorizer.fit_transform(data_processed)\n",
    "km = KMeans(n_clusters=NUM_CLUSTERS)\n",
    "clusters = km.fit_transform(doc_term_matrix)"
   ]
  },
  {
   "cell_type": "code",
   "execution_count": 269,
   "id": "97d7835e",
   "metadata": {},
   "outputs": [
    {
     "name": "stdout",
     "output_type": "stream",
     "text": [
      "Matrix dimensions: 24711 x 33840\n",
      "Num documents: 24711, Num terms: 33840\n"
     ]
    }
   ],
   "source": [
    "# we are returned a numpy sparse matrix, converting to a traditional array for simpler accessing and usage later\n",
    "doc_term_matrix = doc_term_matrix.toarray()\n",
    "terms = vectorizer.get_feature_names_out()\n",
    "print(f\"Matrix dimensions: {len(doc_term_matrix)} x {len(doc_term_matrix[0])}\")\n",
    "print(f\"Num documents: {len(data_processed)}, Num terms: {len(terms)}\")"
   ]
  },
  {
   "cell_type": "code",
   "execution_count": 270,
   "id": "acfd6463",
   "metadata": {},
   "outputs": [
    {
     "name": "stdout",
     "output_type": "stream",
     "text": [
      "[\"'bursiti\" \"'caller\" \"'chronic\" \"'clock\" \"'clonidin\" \"'close\" \"'coconut\"\n",
      " \"'congenit\" \"'contain\" \"'coupl\"]\n"
     ]
    }
   ],
   "source": [
    "print(terms[10:20])"
   ]
  },
  {
   "cell_type": "markdown",
   "id": "09ba391c",
   "metadata": {},
   "source": [
    "Example words with tf-idf values for document 0\n"
   ]
  },
  {
   "cell_type": "code",
   "execution_count": 271,
   "id": "ebdc11cf",
   "metadata": {},
   "outputs": [
    {
     "name": "stdout",
     "output_type": "stream",
     "text": [
      "date 0.05809711063342075\n",
      "event 0.06976337740806901\n",
      "excurs 0.09043640930109825\n",
      "experi 0.11587188651559706\n",
      "expir 0.2685139372913047\n",
      "frequenc 0.11559960285534095\n",
      "gardasil 0.18088298958406868\n",
      "gender 0.10535311717275656\n",
      "histori 0.055034417858322096\n",
      "hpv 0.1765701887734298\n"
     ]
    }
   ],
   "source": [
    "words_found = 0  # limit to 10\n",
    "for i in range(15000, len(doc_term_matrix[0])):\n",
    "    if words_found == 10:\n",
    "        break\n",
    "    if doc_term_matrix[0][i] != 0:\n",
    "        words_found += 1\n",
    "        print(terms[i], doc_term_matrix[0][i])\n"
   ]
  },
  {
   "cell_type": "markdown",
   "id": "867250b8",
   "metadata": {},
   "source": [
    "doc_term_matrix is our TF-IDF matrix which is indexed by the document id (location in our original data/list of documents)\\\n",
    "The y axis indicies are the indices of the term in our \"terms\" array\\\n",
    "A zero value indiciates the term is not present in the document, a non zero value is the calculated tf-idf value\n"
   ]
  },
  {
   "cell_type": "code",
   "execution_count": 272,
   "id": "2d033bd5",
   "metadata": {},
   "outputs": [
    {
     "data": {
      "text/plain": [
       "array([[1.06443945, 0.98884325, 1.15263573, ..., 1.01871408, 0.94568563,\n",
       "        1.28700389],\n",
       "       [1.04504496, 0.97976196, 1.12499139, ..., 0.94298708, 0.97544805,\n",
       "        1.28350271],\n",
       "       [1.04974378, 0.97752136, 1.1295142 , ..., 0.95830917, 0.9763275 ,\n",
       "        1.30025566],\n",
       "       ...,\n",
       "       [1.06446225, 0.99513667, 1.16119323, ..., 1.10732054, 1.0094543 ,\n",
       "        1.29931102],\n",
       "       [1.06465314, 0.99481724, 1.16135119, ..., 1.10732442, 1.0099334 ,\n",
       "        1.30052226],\n",
       "       [1.06580423, 0.99644185, 1.16168644, ..., 1.10920895, 1.01215587,\n",
       "        1.30308977]])"
      ]
     },
     "execution_count": 272,
     "metadata": {},
     "output_type": "execute_result"
    }
   ],
   "source": [
    "clusters"
   ]
  },
  {
   "cell_type": "code",
   "execution_count": 273,
   "id": "45a49814",
   "metadata": {},
   "outputs": [
    {
     "data": {
      "text/plain": [
       "array([1.06443945, 0.98884325, 1.15263573, 0.94705469, 1.0438153 ,\n",
       "       1.34657479, 1.0166167 , 1.01871408, 0.94568563, 1.28700389])"
      ]
     },
     "execution_count": 273,
     "metadata": {},
     "output_type": "execute_result"
    }
   ],
   "source": [
    "clusters[0]  # distances from document 0 to each of the 10 cluster centers"
   ]
  },
  {
   "cell_type": "markdown",
   "id": "4313ae1c",
   "metadata": {},
   "source": [
    "\"clusters\" is our transformed matrix, there are rows for each document as before, but there are now 10 (chosen number of clusters) integer values which are the L2 norm distance (Euclidian distance) to the center of each of the (0,1,...9) clusters.\n"
   ]
  },
  {
   "cell_type": "code",
   "execution_count": 274,
   "id": "9d79f6c7",
   "metadata": {},
   "outputs": [],
   "source": [
    "predictions = km.predict(doc_term_matrix)"
   ]
  },
  {
   "cell_type": "markdown",
   "id": "142a0998",
   "metadata": {},
   "source": [
    "The predicitions variable is an array of our documents with the cluster it is in. Below is an example of the output.\n"
   ]
  },
  {
   "cell_type": "code",
   "execution_count": 275,
   "id": "bead23ea",
   "metadata": {},
   "outputs": [
    {
     "name": "stdout",
     "output_type": "stream",
     "text": [
      "Document 0 belongs to cluster: 8\n",
      "Document text: ['thi', 'spontan', 'report', 'receiv', 'pharmacist', 'refer', 'patient', 'unknown', 'age', 'gender']\n",
      "Document 1 belongs to cluster: 3\n",
      "Document text: ['suspect', 'clinic', 'vaccin', 'failur', 'suspect', 'covid-19', 'infect', 'thi', 'spontan', 'potenti']\n",
      "Document 2 belongs to cluster: 3\n",
      "Document text: ['suspect', 'clinic', 'vaccin', 'failur', 'suspect', 'covid-19', 'infect', 'thi', 'spontan', 'report']\n",
      "Document 3 belongs to cluster: 7\n",
      "Document text: ['irregular', 'menstrual', 'cycl', 'period', 'extrem', 'heavi', 'bad', 'cramp', 'thi', 'spontan']\n",
      "Document 4 belongs to cluster: 7\n",
      "Document text: ['breakthrough', 'heavi', 'period', 'longer', 'period', 'length', 'thi', 'spontan', 'report', 'receiv']\n"
     ]
    }
   ],
   "source": [
    "for doc in range(0, 5):\n",
    "    print(f\"Document {doc} belongs to cluster: {predictions[doc]}\")\n",
    "    print(f\"Document text: {data_processed[doc][:10]}\")"
   ]
  },
  {
   "cell_type": "markdown",
   "id": "1ddd6ce6",
   "metadata": {},
   "source": [
    "# Deliverable 3:\n",
    "\n",
    "## Classifying the generated clusters\n"
   ]
  },
  {
   "cell_type": "code",
   "execution_count": 276,
   "id": "9923ee3b",
   "metadata": {},
   "outputs": [],
   "source": [
    "# row.name gives the index in the dataframe, predictions[document_id] gives us the cluster\n",
    "# adding a cluster column to our dataframe\n",
    "df[\"CLUSTER\"] = df.apply(lambda row: predictions[row.name], axis=1)"
   ]
  },
  {
   "cell_type": "code",
   "execution_count": 277,
   "id": "d5e1418a",
   "metadata": {},
   "outputs": [
    {
     "data": {
      "text/html": [
       "<div>\n",
       "<style scoped>\n",
       "    .dataframe tbody tr th:only-of-type {\n",
       "        vertical-align: middle;\n",
       "    }\n",
       "\n",
       "    .dataframe tbody tr th {\n",
       "        vertical-align: top;\n",
       "    }\n",
       "\n",
       "    .dataframe thead th {\n",
       "        text-align: right;\n",
       "    }\n",
       "</style>\n",
       "<table border=\"1\" class=\"dataframe\">\n",
       "  <thead>\n",
       "    <tr style=\"text-align: right;\">\n",
       "      <th></th>\n",
       "      <th>SYMPTOM_TEXT</th>\n",
       "      <th>SERIOUS</th>\n",
       "      <th>CLUSTER</th>\n",
       "    </tr>\n",
       "  </thead>\n",
       "  <tbody>\n",
       "    <tr>\n",
       "      <th>0</th>\n",
       "      <td>This spontaneous report was received from a ph...</td>\n",
       "      <td>False</td>\n",
       "      <td>8</td>\n",
       "    </tr>\n",
       "    <tr>\n",
       "      <th>100</th>\n",
       "      <td>got an ear infection on both ears with perfora...</td>\n",
       "      <td>False</td>\n",
       "      <td>7</td>\n",
       "    </tr>\n",
       "    <tr>\n",
       "      <th>200</th>\n",
       "      <td>This case involves a 27 years old male patient...</td>\n",
       "      <td>False</td>\n",
       "      <td>3</td>\n",
       "    </tr>\n",
       "    <tr>\n",
       "      <th>300</th>\n",
       "      <td>Chills, fatigue, night sweats, fever, congesti...</td>\n",
       "      <td>False</td>\n",
       "      <td>4</td>\n",
       "    </tr>\n",
       "    <tr>\n",
       "      <th>400</th>\n",
       "      <td>pain, followed by swelling,loss of arm movemen...</td>\n",
       "      <td>False</td>\n",
       "      <td>6</td>\n",
       "    </tr>\n",
       "    <tr>\n",
       "      <th>500</th>\n",
       "      <td>Fever of 100.6F, headache, body ache and chills</td>\n",
       "      <td>False</td>\n",
       "      <td>4</td>\n",
       "    </tr>\n",
       "    <tr>\n",
       "      <th>600</th>\n",
       "      <td>I am a 63-year-old male. I received the Modern...</td>\n",
       "      <td>False</td>\n",
       "      <td>0</td>\n",
       "    </tr>\n",
       "    <tr>\n",
       "      <th>700</th>\n",
       "      <td>The patient received his first dose of the Jan...</td>\n",
       "      <td>False</td>\n",
       "      <td>1</td>\n",
       "    </tr>\n",
       "    <tr>\n",
       "      <th>800</th>\n",
       "      <td>hives, treated with benadryl</td>\n",
       "      <td>False</td>\n",
       "      <td>1</td>\n",
       "    </tr>\n",
       "    <tr>\n",
       "      <th>900</th>\n",
       "      <td>Stabbing Chest pains from a few hours after sh...</td>\n",
       "      <td>False</td>\n",
       "      <td>6</td>\n",
       "    </tr>\n",
       "  </tbody>\n",
       "</table>\n",
       "</div>"
      ],
      "text/plain": [
       "                                          SYMPTOM_TEXT  SERIOUS  CLUSTER\n",
       "0    This spontaneous report was received from a ph...    False        8\n",
       "100  got an ear infection on both ears with perfora...    False        7\n",
       "200  This case involves a 27 years old male patient...    False        3\n",
       "300  Chills, fatigue, night sweats, fever, congesti...    False        4\n",
       "400  pain, followed by swelling,loss of arm movemen...    False        6\n",
       "500    Fever of 100.6F, headache, body ache and chills    False        4\n",
       "600  I am a 63-year-old male. I received the Modern...    False        0\n",
       "700  The patient received his first dose of the Jan...    False        1\n",
       "800                       hives, treated with benadryl    False        1\n",
       "900  Stabbing Chest pains from a few hours after sh...    False        6"
      ]
     },
     "execution_count": 277,
     "metadata": {},
     "output_type": "execute_result"
    }
   ],
   "source": [
    "df[[\"SYMPTOM_TEXT\", \"SERIOUS\", \"CLUSTER\"]][:1000:100]"
   ]
  },
  {
   "cell_type": "code",
   "execution_count": 278,
   "id": "048ab9b4",
   "metadata": {},
   "outputs": [
    {
     "data": {
      "text/html": [
       "<div>\n",
       "<style scoped>\n",
       "    .dataframe tbody tr th:only-of-type {\n",
       "        vertical-align: middle;\n",
       "    }\n",
       "\n",
       "    .dataframe tbody tr th {\n",
       "        vertical-align: top;\n",
       "    }\n",
       "\n",
       "    .dataframe thead th {\n",
       "        text-align: right;\n",
       "    }\n",
       "</style>\n",
       "<table border=\"1\" class=\"dataframe\">\n",
       "  <thead>\n",
       "    <tr style=\"text-align: right;\">\n",
       "      <th></th>\n",
       "      <th>SYMPTOM_TEXT</th>\n",
       "      <th>SERIOUS</th>\n",
       "      <th>CLUSTER</th>\n",
       "    </tr>\n",
       "  </thead>\n",
       "  <tbody>\n",
       "    <tr>\n",
       "      <th>235</th>\n",
       "      <td>After vaccine I am experiencing numbness in my...</td>\n",
       "      <td>True</td>\n",
       "      <td>0</td>\n",
       "    </tr>\n",
       "    <tr>\n",
       "      <th>236</th>\n",
       "      <td>Bilateral large pulmonary emboli with right ve...</td>\n",
       "      <td>True</td>\n",
       "      <td>1</td>\n",
       "    </tr>\n",
       "    <tr>\n",
       "      <th>258</th>\n",
       "      <td>Multiple episodes of syncope resulting in faci...</td>\n",
       "      <td>True</td>\n",
       "      <td>1</td>\n",
       "    </tr>\n",
       "    <tr>\n",
       "      <th>289</th>\n",
       "      <td>I experienced a pounding heartbeat and chest t...</td>\n",
       "      <td>True</td>\n",
       "      <td>0</td>\n",
       "    </tr>\n",
       "    <tr>\n",
       "      <th>308</th>\n",
       "      <td>12/27 - chills and body aches. Light pain in h...</td>\n",
       "      <td>True</td>\n",
       "      <td>4</td>\n",
       "    </tr>\n",
       "    <tr>\n",
       "      <th>321</th>\n",
       "      <td>2/04/2021 Experienced stabbing R peri-orbital ...</td>\n",
       "      <td>True</td>\n",
       "      <td>1</td>\n",
       "    </tr>\n",
       "    <tr>\n",
       "      <th>324</th>\n",
       "      <td>December 28, 2021 - Moderna 1 January 30, 2021...</td>\n",
       "      <td>True</td>\n",
       "      <td>0</td>\n",
       "    </tr>\n",
       "    <tr>\n",
       "      <th>325</th>\n",
       "      <td>On April 12 2021, I suddenly heard a loud nois...</td>\n",
       "      <td>True</td>\n",
       "      <td>1</td>\n",
       "    </tr>\n",
       "    <tr>\n",
       "      <th>327</th>\n",
       "      <td>Fatigue, nausea, vomiting, vertigo, brain fog</td>\n",
       "      <td>True</td>\n",
       "      <td>4</td>\n",
       "    </tr>\n",
       "    <tr>\n",
       "      <th>334</th>\n",
       "      <td>chest pain on 12/20/21 intermittently, then co...</td>\n",
       "      <td>True</td>\n",
       "      <td>1</td>\n",
       "    </tr>\n",
       "  </tbody>\n",
       "</table>\n",
       "</div>"
      ],
      "text/plain": [
       "                                          SYMPTOM_TEXT  SERIOUS  CLUSTER\n",
       "235  After vaccine I am experiencing numbness in my...     True        0\n",
       "236  Bilateral large pulmonary emboli with right ve...     True        1\n",
       "258  Multiple episodes of syncope resulting in faci...     True        1\n",
       "289  I experienced a pounding heartbeat and chest t...     True        0\n",
       "308  12/27 - chills and body aches. Light pain in h...     True        4\n",
       "321  2/04/2021 Experienced stabbing R peri-orbital ...     True        1\n",
       "324  December 28, 2021 - Moderna 1 January 30, 2021...     True        0\n",
       "325  On April 12 2021, I suddenly heard a loud nois...     True        1\n",
       "327      Fatigue, nausea, vomiting, vertigo, brain fog     True        4\n",
       "334  chest pain on 12/20/21 intermittently, then co...     True        1"
      ]
     },
     "execution_count": 278,
     "metadata": {},
     "output_type": "execute_result"
    }
   ],
   "source": [
    "serious_docs = df.loc[df[\"SERIOUS\"] == True]\n",
    "serious_docs[[\"SYMPTOM_TEXT\", \"SERIOUS\", \"CLUSTER\"]][:10]"
   ]
  },
  {
   "cell_type": "code",
   "execution_count": 279,
   "id": "205739b5",
   "metadata": {},
   "outputs": [
    {
     "name": "stdout",
     "output_type": "stream",
     "text": [
      "Number of serious cases: 4332\n"
     ]
    }
   ],
   "source": [
    "print(f\"Number of serious cases: {len(serious_docs)}\")"
   ]
  },
  {
   "cell_type": "markdown",
   "id": "4e5805ec",
   "metadata": {},
   "source": [
    "### Analyzing the clusters by count of serious cases\n"
   ]
  },
  {
   "cell_type": "code",
   "execution_count": 326,
   "id": "3e4b4bc7",
   "metadata": {},
   "outputs": [
    {
     "name": "stdout",
     "output_type": "stream",
     "text": [
      "Cluster 0: 264 serious cases 2094 non serious cases (11.20% serious)\n",
      "Cluster 1: 3073 serious cases 5489 non serious cases (35.89% serious)\n",
      "Cluster 2: 350 serious cases 385 non serious cases (47.62% serious)\n",
      "Cluster 3: 181 serious cases 2650 non serious cases (6.39% serious)\n",
      "Cluster 4: 155 serious cases 1211 non serious cases (11.35% serious)\n",
      "Cluster 5: 0 serious cases 841 non serious cases (0.00% serious)\n",
      "Cluster 6: 164 serious cases 2306 non serious cases (6.64% serious)\n",
      "Cluster 7: 124 serious cases 2509 non serious cases (4.71% serious)\n",
      "Cluster 8: 21 serious cases 2639 non serious cases (0.79% serious)\n",
      "Cluster 9: 0 serious cases 255 non serious cases (0.00% serious)\n"
     ]
    }
   ],
   "source": [
    "init_counts = dict()\n",
    "for cluster_num in range(NUM_CLUSTERS):\n",
    "    init_counts[cluster_num] = 0\n",
    "cluster_serious_counts = Counter(init_counts)\n",
    "# initializing counter in case we have a cluster that does not appear, we would want a count of 0\n",
    "# and not have the cluster be undefined in the counter\n",
    "\n",
    "cluster_serious_counts.update(\n",
    "    serious_docs[\"CLUSTER\"])  # count how many times each cluster appears\n",
    "\n",
    "cluster_non_serious_counts = Counter(\n",
    "    df[\"CLUSTER\"]) - cluster_serious_counts  # total count - serious\n",
    "\n",
    "cluster_percent_serious = dict()\n",
    "\n",
    "for cluster, serious_count in cluster_serious_counts.items():\n",
    "    non_serious_count = cluster_non_serious_counts[cluster]\n",
    "    percent_serious = (serious_count /\n",
    "                       (serious_count + non_serious_count)) * 100\n",
    "    cluster_percent_serious[cluster] = percent_serious\n",
    "    print(\n",
    "        f\"Cluster {cluster}: {serious_count} serious cases {non_serious_count} non serious cases ({percent_serious:.2f}% serious)\"\n",
    "    )"
   ]
  },
  {
   "cell_type": "markdown",
   "id": "9e52283f",
   "metadata": {},
   "source": [
    "From the cluster results, we have clusters 5 and 9 with no cases, and cluster 1 with most by a large margin\\\n",
    "Cluster 1 however, was our largest cluster as well\n"
   ]
  },
  {
   "cell_type": "markdown",
   "id": "b473e97e",
   "metadata": {},
   "source": [
    "### Finding average age for each cluster, analyzing sex frequency\n"
   ]
  },
  {
   "cell_type": "code",
   "execution_count": 346,
   "id": "1a526a27",
   "metadata": {},
   "outputs": [
    {
     "name": "stdout",
     "output_type": "stream",
     "text": [
      "Cluster 0: Average age 22.81, 23.66% M, 76.34% F\n",
      "Cluster 1: Average age 23.93, 41.55% M, 58.45% F\n",
      "Cluster 2: Average age 27.66, 48.82% M, 51.18% F\n",
      "Cluster 3: Average age 16.78, 40.71% M, 59.29% F\n",
      "Cluster 4: Average age 23.11, 33.41% M, 66.59% F\n",
      "Cluster 5: Average age 18.81, 63.86% M, 36.14% F\n",
      "Cluster 6: Average age 22.25, 28.37% M, 71.63% F\n",
      "Cluster 7: Average age 18.44, 34.11% M, 65.89% F\n",
      "Cluster 8: Average age 16.37, 46.44% M, 53.56% F\n",
      "Cluster 9: Average age 14.89, 46.85% M, 53.15% F\n"
     ]
    }
   ],
   "source": [
    "cluster_age_sum = dict()\n",
    "cluster_ages_found = dict()\n",
    "cluster_sex_count = dict()  # ignoring rows with value U or N/A\n",
    "cluster_avg_age = dict()\n",
    "\n",
    "for cluster in range(NUM_CLUSTERS):\n",
    "    cluster_age_sum[cluster] = 0\n",
    "    cluster_ages_found[cluster] = 0\n",
    "    cluster_avg_age[cluster] = None\n",
    "    cluster_sex_count[cluster] = {\"M\": 0, \"F\": 0}\n",
    "\n",
    "for sex, cluster in zip(df[\"SEX\"], df[\"CLUSTER\"]):\n",
    "    if isinstance(sex, str):\n",
    "        cluster_ages_found[cluster] += 1\n",
    "        if sex == \"M\":\n",
    "            cluster_sex_count[cluster][\"M\"] += 1\n",
    "        elif sex == \"F\":\n",
    "            cluster_sex_count[cluster][\"F\"] += 1\n",
    "\n",
    "for age, cluster in zip(df[\"AGE_YRS\"], df[\"CLUSTER\"]):\n",
    "    if isinstance(age, (int, float)) and not np.isnan(age):\n",
    "        cluster_ages_found[cluster] += 1\n",
    "        cluster_age_sum[cluster] += age\n",
    "\n",
    "for cluster, age_sum in cluster_age_sum.items():\n",
    "    cluster_avg_age[cluster] = age_sum / cluster_ages_found[cluster]\n",
    "\n",
    "cluster_sex_pct = dict()\n",
    "\n",
    "for cluster, sex_counts in cluster_sex_count.items():\n",
    "    m_count, f_count = sex_counts.values()\n",
    "    total = m_count+f_count\n",
    "    cluster_sex_pct[cluster] = {\"M\": (m_count/total) * 100, \"F\": (f_count/total)* 100}\n",
    "\n",
    "for cluster in range(NUM_CLUSTERS):\n",
    "    pct_male = cluster_sex_pct[cluster][\"M\"] \n",
    "    pct_female = cluster_sex_pct[cluster][\"F\"]\n",
    "    print(f\"Cluster {cluster}: Average age {cluster_avg_age[cluster]:.2f}, {pct_male:.2f}% M, {pct_female:.2f}% F\")"
   ]
  },
  {
   "cell_type": "markdown",
   "id": "dcb235f6",
   "metadata": {},
   "source": [
    "From this analysis, we can see that cluster 9 has the lowest average age, and cluster 2 has the highest average age.\\\n",
    "As a proportion of total cases for that cluster, cluster 9 has the lowest(0%) and cluster 2 has the highest(47.62%) of cases that were deemed serious.\\\n",
    "Clusters 0, 4, 6, 7 heavily leaned female, cluster 5 leaned male, and clusters 1,2,3,8,9 were a close split\n",
    "Based on these findings below is a generated description for each cluster considering these factors"
   ]
  },
  {
   "cell_type": "code",
   "execution_count": 350,
   "id": "9b3d7573",
   "metadata": {},
   "outputs": [
    {
     "name": "stdout",
     "output_type": "stream",
     "text": [
      "Cluster 0: Mostly Females, Some serious cases\n",
      "Cluster 1: Mostly Females, Many serious cases\n",
      "Cluster 2: Older population, Males and Females, Many serious cases\n",
      "Cluster 3: Mostly Females, Few serious cases\n",
      "Cluster 4: Mostly Females, Some serious cases\n",
      "Cluster 5: Mostly Males, No serious cases\n",
      "Cluster 6: Mostly Females, Few serious cases\n",
      "Cluster 7: Mostly Females, Few serious cases\n",
      "Cluster 8: Males and Females, Few serious cases\n",
      "Cluster 9: Mostly children, Males and Females, No serious cases\n"
     ]
    }
   ],
   "source": [
    "for cluster in range(NUM_CLUSTERS):\n",
    "  description = \"\"\n",
    "\n",
    "  avg_age = cluster_avg_age[cluster]\n",
    "  if avg_age < 15: \n",
    "    description += \"Young population, \"\n",
    "  elif avg_age > 25:\n",
    "    description += \"Older population, \"\n",
    "    \n",
    "  pct_male, pct_female = cluster_sex_pct[cluster].values()\n",
    "  \n",
    "  if abs(pct_male - pct_female) > 10:\n",
    "    if pct_male > pct_female:\n",
    "      description += \"Mostly Males, \"\n",
    "    else:\n",
    "      description += \"Mostly Females, \"\n",
    "  else:\n",
    "    description += \"Males and Females, \"\n",
    "    \n",
    "  pct_serious = cluster_percent_serious[cluster]\n",
    "\n",
    "  if pct_serious == 0:\n",
    "    description += \"No serious cases\"\n",
    "  elif pct_serious < 10:\n",
    "    description += \"Few serious cases\"\n",
    "  elif pct_serious > 30:\n",
    "    description += \"Many serious cases\"\n",
    "  else:\n",
    "    description += \"Some serious cases\"\n",
    "  print(f\"Cluster {cluster}: {description}\")"
   ]
  },
  {
   "cell_type": "code",
   "execution_count": null,
   "id": "01d316fd",
   "metadata": {},
   "outputs": [],
   "source": []
  }
 ],
 "metadata": {
  "interpreter": {
   "hash": "aee8b7b246df8f9039afb4144a1f6fd8d2ca17a180786b69acc140d282b71a49"
  },
  "kernelspec": {
   "display_name": "cs553_env",
   "language": "python",
   "name": "python3"
  },
  "language_info": {
   "codemirror_mode": {
    "name": "ipython",
    "version": 3
   },
   "file_extension": ".py",
   "mimetype": "text/x-python",
   "name": "python",
   "nbconvert_exporter": "python",
   "pygments_lexer": "ipython3",
   "version": "3.10.0"
  }
 },
 "nbformat": 4,
 "nbformat_minor": 5
}
