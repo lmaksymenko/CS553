{
 "cells": [
  {
   "cell_type": "code",
   "execution_count": 126,
   "metadata": {},
   "outputs": [],
   "source": [
    "from nltk.corpus import wordnet as wn\n",
    "from sklearn.feature_extraction.text import TfidfVectorizer\n",
    "from nltk.stem.porter import PorterStemmer\n",
    "from nltk.corpus import stopwords\n",
    "from scipy.spatial import distance\n",
    "import string"
   ]
  },
  {
   "cell_type": "code",
   "execution_count": 127,
   "metadata": {},
   "outputs": [],
   "source": [
    "# Sentences chosen, ambiguous word chosen is 'play'\n",
    "#The Queen's Park and Titwood clubs in Glasgow have each three greens, and as they can quite comfortably play six rinks on each, it is not uncommon to see 144 players making their game simultaneously.\n",
    "first_sentence = \"She cannot sing and she cannot play the piano, although, as some early experiments show, she could learn mechanically to beat out a tune on the keys.\"\n",
    "second_sentence = \"The strongest direct evidence seems to be that the nuclear substances are the only parts of the cells which are always equivalent in quantity, and that in the higher plants and animals the male organ or spermatozoid is composed almost entirely of the nucleus, and that the male nucleus is carried into the female cell without a particle of cytoplasm.i Since, however, the nucleus of the female cell is always accompanied by a larger or smaller quantity of cytoplasm, and that in a large majority of the power plants and animals the male cell also contains cytoplasm, it cannot yet be definitely stated that the cytoplasm does not play some part in the process.\""
   ]
  },
  {
   "cell_type": "code",
   "execution_count": 128,
   "metadata": {},
   "outputs": [
    {
     "data": {
      "text/plain": [
       "[Synset('play.n.01'),\n",
       " Synset('play.n.02'),\n",
       " Synset('play.n.03'),\n",
       " Synset('maneuver.n.03'),\n",
       " Synset('play.n.05'),\n",
       " Synset('play.n.06'),\n",
       " Synset('bid.n.02'),\n",
       " Synset('play.n.08'),\n",
       " Synset('playing_period.n.01'),\n",
       " Synset('free_rein.n.01'),\n",
       " Synset('shimmer.n.01'),\n",
       " Synset('fun.n.02'),\n",
       " Synset('looseness.n.05'),\n",
       " Synset('play.n.14'),\n",
       " Synset('turn.n.03'),\n",
       " Synset('gambling.n.01'),\n",
       " Synset('play.n.17'),\n",
       " Synset('play.v.01'),\n",
       " Synset('play.v.02'),\n",
       " Synset('play.v.03'),\n",
       " Synset('act.v.03'),\n",
       " Synset('play.v.05'),\n",
       " Synset('play.v.06'),\n",
       " Synset('play.v.07'),\n",
       " Synset('act.v.05'),\n",
       " Synset('play.v.09'),\n",
       " Synset('play.v.10'),\n",
       " Synset('play.v.11'),\n",
       " Synset('play.v.12'),\n",
       " Synset('play.v.13'),\n",
       " Synset('play.v.14'),\n",
       " Synset('play.v.15'),\n",
       " Synset('play.v.16'),\n",
       " Synset('play.v.17'),\n",
       " Synset('play.v.18'),\n",
       " Synset('toy.v.02'),\n",
       " Synset('play.v.20'),\n",
       " Synset('dally.v.04'),\n",
       " Synset('play.v.22'),\n",
       " Synset('dally.v.01'),\n",
       " Synset('play.v.24'),\n",
       " Synset('act.v.10'),\n",
       " Synset('play.v.26'),\n",
       " Synset('bring.v.03'),\n",
       " Synset('play.v.28'),\n",
       " Synset('play.v.29'),\n",
       " Synset('bet.v.02'),\n",
       " Synset('play.v.31'),\n",
       " Synset('play.v.32'),\n",
       " Synset('play.v.33'),\n",
       " Synset('meet.v.10'),\n",
       " Synset('play.v.35')]"
      ]
     },
     "execution_count": 128,
     "metadata": {},
     "output_type": "execute_result"
    }
   ],
   "source": [
    "wn.synsets(\"play\")"
   ]
  },
  {
   "cell_type": "code",
   "execution_count": 129,
   "metadata": {},
   "outputs": [
    {
     "name": "stdout",
     "output_type": "stream",
     "text": [
      "cannot sing cannot play piano  although  early experiments show  could learn mechanically beat tune keys \n",
      "strongest direct evidence seems nuclear substances parts cells always equivalent quantity  higher plants animals male organ spermatozoid composed almost entirely nucleus  male nucleus carried female cell without particle cytoplasm i since  however  nucleus female cell always accompanied larger smaller quantity cytoplasm  large majority power plants animals male cell also contains cytoplasm  cannot yet definitely stated cytoplasm play part process \n"
     ]
    }
   ],
   "source": [
    "stop_words = set(stopwords.words('english'))\n",
    "\n",
    "porter = PorterStemmer()\n",
    "\n",
    "\n",
    "def stopword_remover(lst):\n",
    "    return \" \".join([word for word in lst.split(\" \") if word not in stop_words])\n",
    "\n",
    "\n",
    "def stemmer(lst):\n",
    "    return \"\".join([porter.stem(word) for word in lst if word])\n",
    "\n",
    "\n",
    "def remove_punc(sent):\n",
    "    sent_without_punc = \"\"\n",
    "    for char in sent:\n",
    "        if char not in string.punctuation:\n",
    "            sent_without_punc += char\n",
    "        else:\n",
    "            sent_without_punc += \" \"\n",
    "    return sent_without_punc\n",
    "\n",
    "\n",
    "def text_preprocess(text):\n",
    "    text = text.lower()\n",
    "    stems = stemmer(text)\n",
    "    stems = stopword_remover(stems)\n",
    "    stems = remove_punc(stems)\n",
    "    return stems\n",
    "\n",
    "first_sentence_stemmed = text_preprocess(first_sentence)\n",
    "second_sentence_stemmed = text_preprocess(second_sentence)\n",
    "print(first_sentence_stemmed)\n",
    "print(second_sentence_stemmed)"
   ]
  },
  {
   "cell_type": "code",
   "execution_count": 130,
   "metadata": {},
   "outputs": [
    {
     "name": "stdout",
     "output_type": "stream",
     "text": [
      "['cannot sing cannot play piano  although  early experiments show  could learn mechanically beat tune keys ', 'strongest direct evidence seems nuclear substances parts cells always equivalent quantity  higher plants animals male organ spermatozoid composed almost entirely nucleus  male nucleus carried female cell without particle cytoplasm i since  however  nucleus female cell always accompanied larger smaller quantity cytoplasm  large majority power plants animals male cell also contains cytoplasm  cannot yet definitely stated cytoplasm play part process ', 'dramatic work intended performance actors stage', 'theatrical performance drama', 'preset plan action team sports', 'deliberate coordinated movement requiring dexterity skill', 'state action feasible', 'utilization exercise', 'attempt get something', 'activity children guided imagination fixed rules', ' in games plays performances  time play proceeds', 'removal constraints', 'weak tremulous light', 'verbal wit mockery  often another s expense taken seriously ', 'movement space movement', 'gay light hearted recreational activity diversion amusement', ' game  activity something agreed succession', 'act playing stakes hope winning  including payment price chance win prize ', 'act using sword  or weapon  vigorously skillfully', 'participate games sport', 'act effect specified way specific effect outcome', 'play instrument', 'play role part', 'play  engaged playful activity  amuse oneself way characteristic children', 'replay  as melody ', 'perform music  a musical instrument ', 'pretend certain qualities state mind', 'move seem move quickly  lightly  irregularly', 'bet wager  money ', 'engage recreational activities rather work  occupy oneself diversion', 'pretend somebody framework game playful activity', 'emit recorded sound', 'perform certain location', 'put  a card piece  play game  act strategically card game', 'engage activity game rather take seriously', 'behave certain way', 'cause emit recorded audio video', 'manipulate manually one s mind imagination', 'use one s advantage', 'consider seriously', 'received accepted interpreted specific way', 'behave carelessly indifferently', 'cause move operate freely within bounded space', 'perform stage theater', 'performed presented public viewing', 'cause happen occur consequence', 'discharge direct discharged directed continuous stream', 'make bets', 'stake outcome issue', 'shoot hit particular manner', 'use move', 'employ game specific position', 'contend opponent sport  game  battle', 'exhaust allowing pull line']\n"
     ]
    }
   ],
   "source": [
    "# look at distance from original sentence to each of the glosses and find the most similar\n",
    "documents = [first_sentence_stemmed, second_sentence_stemmed]\n",
    "\n",
    "for syn in wn.synsets(\"play\"):\n",
    "    gloss = text_preprocess(syn.definition())\n",
    "    documents.append(gloss)\n",
    "\n",
    "print(documents)\n"
   ]
  },
  {
   "cell_type": "code",
   "execution_count": 131,
   "metadata": {},
   "outputs": [],
   "source": [
    "vectorizer = TfidfVectorizer()\n",
    "doc_term_matrix = vectorizer.fit_transform(documents).toarray()"
   ]
  },
  {
   "cell_type": "code",
   "execution_count": 132,
   "metadata": {},
   "outputs": [
    {
     "data": {
      "text/plain": [
       "(54, 229)"
      ]
     },
     "execution_count": 132,
     "metadata": {},
     "output_type": "execute_result"
    }
   ],
   "source": [
    "doc_term_matrix.shape"
   ]
  },
  {
   "cell_type": "code",
   "execution_count": 133,
   "metadata": {},
   "outputs": [
    {
     "data": {
      "text/plain": [
       "array(['accepted', 'accompanied', 'act', 'action', 'activities',\n",
       "       'activity', 'actors', 'advantage', 'agreed', 'allowing', 'almost',\n",
       "       'also', 'although', 'always', 'amuse', 'amusement', 'animals',\n",
       "       'another', 'as', 'attempt', 'audio', 'battle', 'beat', 'behave',\n",
       "       'bet', 'bets', 'bounded', 'cannot', 'card', 'carelessly',\n",
       "       'carried', 'cause', 'cell', 'cells', 'certain', 'chance',\n",
       "       'characteristic', 'children', 'composed', 'consequence',\n",
       "       'consider', 'constraints', 'contains', 'contend', 'continuous',\n",
       "       'coordinated', 'could', 'cytoplasm', 'definitely', 'deliberate',\n",
       "       'dexterity', 'direct', 'directed', 'discharge', 'discharged',\n",
       "       'diversion', 'drama', 'dramatic', 'early', 'effect', 'emit',\n",
       "       'employ', 'engage', 'engaged', 'entirely', 'equivalent',\n",
       "       'evidence', 'exercise', 'exhaust', 'expense', 'experiments',\n",
       "       'feasible', 'female', 'fixed', 'framework', 'freely', 'game',\n",
       "       'games', 'gay', 'get', 'guided', 'happen', 'hearted', 'higher',\n",
       "       'hit', 'hope', 'however', 'imagination', 'in', 'including',\n",
       "       'indifferently', 'instrument', 'intended', 'interpreted',\n",
       "       'irregularly', 'issue', 'keys', 'large', 'larger', 'learn',\n",
       "       'light', 'lightly', 'line', 'location', 'majority', 'make', 'male',\n",
       "       'manipulate', 'manner', 'manually', 'mechanically', 'melody',\n",
       "       'mind', 'mockery', 'money', 'move', 'movement', 'music', 'musical',\n",
       "       'nuclear', 'nucleus', 'occupy', 'occur', 'often', 'one', 'oneself',\n",
       "       'operate', 'opponent', 'or', 'organ', 'outcome', 'part',\n",
       "       'participate', 'particle', 'particular', 'parts', 'payment',\n",
       "       'perform', 'performance', 'performances', 'performed', 'piano',\n",
       "       'piece', 'plan', 'plants', 'play', 'playful', 'playing', 'plays',\n",
       "       'position', 'power', 'presented', 'preset', 'pretend', 'price',\n",
       "       'prize', 'proceeds', 'process', 'public', 'pull', 'put',\n",
       "       'qualities', 'quantity', 'quickly', 'rather', 'received',\n",
       "       'recorded', 'recreational', 'removal', 'replay', 'requiring',\n",
       "       'role', 'rules', 'seem', 'seems', 'seriously', 'shoot', 'show',\n",
       "       'since', 'sing', 'skill', 'skillfully', 'smaller', 'somebody',\n",
       "       'something', 'sound', 'space', 'specific', 'specified',\n",
       "       'spermatozoid', 'sport', 'sports', 'stage', 'stake', 'stakes',\n",
       "       'state', 'stated', 'strategically', 'stream', 'strongest',\n",
       "       'substances', 'succession', 'sword', 'take', 'taken', 'team',\n",
       "       'theater', 'theatrical', 'time', 'tremulous', 'tune', 'use',\n",
       "       'using', 'utilization', 'verbal', 'video', 'viewing', 'vigorously',\n",
       "       'wager', 'way', 'weak', 'weapon', 'win', 'winning', 'wit',\n",
       "       'within', 'without', 'work', 'yet'], dtype=object)"
      ]
     },
     "execution_count": 133,
     "metadata": {},
     "output_type": "execute_result"
    }
   ],
   "source": [
    "vectorizer.get_feature_names_out()"
   ]
  },
  {
   "cell_type": "code",
   "execution_count": 143,
   "metadata": {},
   "outputs": [
    {
     "name": "stdout",
     "output_type": "stream",
     "text": [
      "[19, 20]\n"
     ]
    }
   ],
   "source": [
    "# documents 0 and 1 are original sentences,\n",
    "# using cosine distance to other vectors 2-7 to find closest for each\n",
    "\n",
    "most_similar = []\n",
    "for sent_vec in doc_term_matrix[0:2]:\n",
    "  # first 2 documents (0,1) are the original sentences\n",
    "  max_similiarity = 0\n",
    "  most_similar_doc = None\n",
    "\n",
    "  for index, syn_vec in enumerate(doc_term_matrix[2:]):\n",
    "    dist = distance.cosine(sent_vec, syn_vec)\n",
    "    cos_similarity = 1 - dist\n",
    "\n",
    "    if cos_similarity > max_similiarity:\n",
    "      max_similiarity = cos_similarity\n",
    "      most_similar_doc = index\n",
    "\n",
    "  most_similar.append(most_similar_doc)\n",
    "\n",
    "print(most_similar)\n",
    "best_first_def = wn.synsets(\"play\")[most_similar[0]].definition()\n",
    "best_second_def = wn.synsets(\"play\")[most_similar[1]].definition()"
   ]
  },
  {
   "cell_type": "code",
   "execution_count": 144,
   "metadata": {},
   "outputs": [
    {
     "name": "stdout",
     "output_type": "stream",
     "text": [
      "She cannot sing and she cannot play the piano, although, as some early experiments show, she could learn mechanically to beat out a tune on the keys.\n",
      "Closest definition: play on an instrument\n"
     ]
    }
   ],
   "source": [
    "print(first_sentence)\n",
    "print(f\"Closest definition: {best_first_def}\")"
   ]
  },
  {
   "cell_type": "code",
   "execution_count": 145,
   "metadata": {},
   "outputs": [
    {
     "name": "stdout",
     "output_type": "stream",
     "text": [
      "The strongest direct evidence seems to be that the nuclear substances are the only parts of the cells which are always equivalent in quantity, and that in the higher plants and animals the male organ or spermatozoid is composed almost entirely of the nucleus, and that the male nucleus is carried into the female cell without a particle of cytoplasm.i Since, however, the nucleus of the female cell is always accompanied by a larger or smaller quantity of cytoplasm, and that in a large majority of the power plants and animals the male cell also contains cytoplasm, it cannot yet be definitely stated that the cytoplasm does not play some part in the process.\n",
      "Closest definition: play a role or part\n"
     ]
    }
   ],
   "source": [
    "print(second_sentence)\n",
    "print(f\"Closest definition: {best_second_def}\")"
   ]
  },
  {
   "cell_type": "code",
   "execution_count": null,
   "metadata": {},
   "outputs": [],
   "source": []
  }
 ],
 "metadata": {
  "interpreter": {
   "hash": "aee8b7b246df8f9039afb4144a1f6fd8d2ca17a180786b69acc140d282b71a49"
  },
  "kernelspec": {
   "display_name": "Python 3.10.0 64-bit",
   "language": "python",
   "name": "python3"
  },
  "language_info": {
   "codemirror_mode": {
    "name": "ipython",
    "version": 3
   },
   "file_extension": ".py",
   "mimetype": "text/x-python",
   "name": "python",
   "nbconvert_exporter": "python",
   "pygments_lexer": "ipython3",
   "version": "3.10.0"
  },
  "orig_nbformat": 4
 },
 "nbformat": 4,
 "nbformat_minor": 2
}
