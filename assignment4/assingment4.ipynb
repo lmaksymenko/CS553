{
 "cells": [
  {
   "cell_type": "code",
   "execution_count": 4,
   "id": "1757f889",
   "metadata": {},
   "outputs": [
    {
     "name": "stderr",
     "output_type": "stream",
     "text": [
      "[nltk_data] Downloading package punkt to /Users/michael/nltk_data...\n",
      "[nltk_data]   Package punkt is already up-to-date!\n"
     ]
    },
    {
     "data": {
      "text/plain": [
       "True"
      ]
     },
     "execution_count": 4,
     "metadata": {},
     "output_type": "execute_result"
    }
   ],
   "source": [
    "import nltk\n",
    "nltk.download('punkt')"
   ]
  },
  {
   "cell_type": "code",
   "execution_count": 5,
   "id": "078a2e8d",
   "metadata": {},
   "outputs": [],
   "source": [
    "import pandas as pd\n",
    "import numpy as np\n",
    "\n",
    "from nltk.tokenize import word_tokenize\n",
    "from nltk.corpus import stopwords\n",
    "\n",
    "from nltk.stem.porter import PorterStemmer\n",
    "\n",
    "from sklearn.model_selection import train_test_split\n",
    "from sklearn.feature_extraction.text import TfidfVectorizer\n",
    "from sklearn.metrics import accuracy_score, confusion_matrix, precision_score, f1_score, recall_score\n",
    "from sklearn import tree"
   ]
  },
  {
   "cell_type": "code",
   "execution_count": 6,
   "id": "08deb139",
   "metadata": {
    "scrolled": true
   },
   "outputs": [
    {
     "name": "stdout",
     "output_type": "stream",
     "text": [
      "Starting number of documents: 24711\n"
     ]
    }
   ],
   "source": [
    "df = pd.read_csv('2022VAERSData.csv', encoding='cp1252', low_memory=False)\n",
    "df.dropna(subset=[\"SYMPTOM_TEXT\"], inplace=True, axis=0)\n",
    "df = df.reset_index()\n",
    "\n",
    "\n",
    "def is_serious(row):\n",
    "    columns = [\"DIED\", \"ER_VISIT\", \"HOSPITAL\", \"DISABLE\"]\n",
    "    for val in row[columns]:\n",
    "        if isinstance(val, str) and val.upper() == \"Y\":\n",
    "            return True\n",
    "    return False\n",
    "\n",
    "\n",
    "df[\"SERIOUS\"] = df.apply(is_serious, axis=1)\n",
    "print(f\"Starting number of documents: {len(df)}\")"
   ]
  },
  {
   "cell_type": "code",
   "execution_count": 7,
   "id": "47f20f96",
   "metadata": {},
   "outputs": [],
   "source": [
    "data = df['SYMPTOM_TEXT']\n",
    "data = np.array(data)\n",
    "target = df[\"SERIOUS\"]\n",
    "target = np.array(target)"
   ]
  },
  {
   "cell_type": "code",
   "execution_count": 8,
   "id": "1301f20a",
   "metadata": {},
   "outputs": [],
   "source": [
    "data_train, data_test, y_train, y_test = train_test_split(data, target, \n",
    "                                                          test_size=0.33, random_state=42)"
   ]
  },
  {
   "cell_type": "code",
   "execution_count": 9,
   "id": "acf732a9",
   "metadata": {},
   "outputs": [],
   "source": [
    "stop_words = set(\n",
    "    stopwords.words('english') +\n",
    "    [\".\", \":\", \";\", \"(\", \")\", \",\", \"#\", \"'\", \"\\\"\", '!', '$', '%', '&', \"''\"])\n",
    "\n",
    "porter = PorterStemmer()\n",
    "\n",
    "\n",
    "def stopword_remover(lst):\n",
    "    return [word for word in lst if word not in stop_words]\n",
    "\n",
    "\n",
    "def stemmer(lst):\n",
    "    return [porter.stem(word) for word in lst if word]\n",
    "\n",
    "\n",
    "def text_preprocess(d):\n",
    "    tokens = np.array([word_tokenize(i) for i in d], dtype=object)\n",
    "    tok_fil = [stopword_remover(doc) for doc in tokens]\n",
    "    tok_stem = [stemmer(doc) for doc in tok_fil]\n",
    "    return tok_stem"
   ]
  },
  {
   "cell_type": "code",
   "execution_count": 10,
   "id": "cd688eaf",
   "metadata": {},
   "outputs": [],
   "source": [
    "data_train_processed = text_preprocess(data_train)"
   ]
  },
  {
   "cell_type": "code",
   "execution_count": 11,
   "id": "b0dd8fc9",
   "metadata": {},
   "outputs": [],
   "source": [
    "data_test_processed = text_preprocess(data_test)"
   ]
  },
  {
   "cell_type": "code",
   "execution_count": 12,
   "id": "937e1cd9",
   "metadata": {},
   "outputs": [],
   "source": [
    "data_processed = text_preprocess(data)"
   ]
  },
  {
   "cell_type": "code",
   "execution_count": 13,
   "id": "c9f6ee91",
   "metadata": {},
   "outputs": [],
   "source": [
    "vectorizer = TfidfVectorizer(tokenizer=lambda i: i, lowercase=False)\n",
    "doc_term_matrix = vectorizer.fit_transform(data_processed)"
   ]
  },
  {
   "cell_type": "code",
   "execution_count": 14,
   "id": "6171755d",
   "metadata": {},
   "outputs": [],
   "source": [
    "data_train, data_test, y_train, y_test = train_test_split(doc_term_matrix, target, \n",
    "                                                          test_size=0.33, random_state=42)"
   ]
  },
  {
   "cell_type": "code",
   "execution_count": 15,
   "id": "b500dfae",
   "metadata": {},
   "outputs": [
    {
     "data": {
      "text/plain": [
       "(24711, 33840)"
      ]
     },
     "execution_count": 15,
     "metadata": {},
     "output_type": "execute_result"
    }
   ],
   "source": [
    "doc_term_matrix.shape"
   ]
  },
  {
   "cell_type": "code",
   "execution_count": 16,
   "id": "574100db",
   "metadata": {},
   "outputs": [
    {
     "data": {
      "text/plain": [
       "DecisionTreeClassifier()"
      ]
     },
     "execution_count": 16,
     "metadata": {},
     "output_type": "execute_result"
    }
   ],
   "source": [
    "dtc = tree.DecisionTreeClassifier()\n",
    "dtc.fit(data_train, y_train)"
   ]
  },
  {
   "cell_type": "code",
   "execution_count": 17,
   "id": "6dc986f3",
   "metadata": {},
   "outputs": [],
   "source": [
    "pred = dtc.predict(data_test)"
   ]
  },
  {
   "cell_type": "code",
   "execution_count": 18,
   "id": "95bfb506",
   "metadata": {},
   "outputs": [
    {
     "data": {
      "text/plain": [
       "array([[6434,  310],\n",
       "       [ 395, 1016]])"
      ]
     },
     "execution_count": 18,
     "metadata": {},
     "output_type": "execute_result"
    }
   ],
   "source": [
    "tn, fp, fn, tp = confusion_matrix(y_test, pred).ravel()\n",
    "confusion_matrix(y_test, pred)"
   ]
  },
  {
   "cell_type": "code",
   "execution_count": 19,
   "id": "5862c20e",
   "metadata": {},
   "outputs": [
    {
     "data": {
      "text/plain": [
       "'True positive 1016 True negative 6434 False positive 310 False negative 395'"
      ]
     },
     "execution_count": 19,
     "metadata": {},
     "output_type": "execute_result"
    }
   ],
   "source": [
    "f\"True positive {tp} True negative {tn} False positive {fp} False negative {fn}\""
   ]
  },
  {
   "cell_type": "code",
   "execution_count": 20,
   "id": "cf6a2e4d",
   "metadata": {},
   "outputs": [
    {
     "data": {
      "text/plain": [
       "'Accuracy: 0.9135499693439607'"
      ]
     },
     "execution_count": 20,
     "metadata": {},
     "output_type": "execute_result"
    }
   ],
   "source": [
    "f\"Accuracy: {accuracy_score(y_test, pred)}\""
   ]
  },
  {
   "cell_type": "code",
   "execution_count": 21,
   "id": "53a63136",
   "metadata": {},
   "outputs": [
    {
     "data": {
      "text/plain": [
       "'Precision: 0.7662141779788839'"
      ]
     },
     "execution_count": 21,
     "metadata": {},
     "output_type": "execute_result"
    }
   ],
   "source": [
    "f\"Precision: {precision_score(y_test, pred)}\""
   ]
  },
  {
   "cell_type": "code",
   "execution_count": 22,
   "id": "4fc3ca2e",
   "metadata": {},
   "outputs": [
    {
     "data": {
      "text/plain": [
       "'F1 score: 0.7424187066130801'"
      ]
     },
     "execution_count": 22,
     "metadata": {},
     "output_type": "execute_result"
    }
   ],
   "source": [
    "f\"F1 score: {f1_score(y_test, pred)}\""
   ]
  },
  {
   "cell_type": "code",
   "execution_count": 23,
   "id": "0855e95f",
   "metadata": {},
   "outputs": [
    {
     "data": {
      "text/plain": [
       "'Recall: 0.7200566973777462'"
      ]
     },
     "execution_count": 23,
     "metadata": {},
     "output_type": "execute_result"
    }
   ],
   "source": [
    "f\"Recall: {recall_score(y_test, pred)}\""
   ]
  },
  {
   "cell_type": "code",
   "execution_count": 24,
   "id": "ebc68c44",
   "metadata": {},
   "outputs": [
    {
     "data": {
      "text/plain": [
       "'Specificity: 0.9540332147093713'"
      ]
     },
     "execution_count": 24,
     "metadata": {},
     "output_type": "execute_result"
    }
   ],
   "source": [
    "f\"Specificity: {tn / (tn+fp)}\""
   ]
  },
  {
   "cell_type": "code",
   "execution_count": 26,
   "id": "93138b45",
   "metadata": {},
   "outputs": [],
   "source": [
    "from sklearn.tree import export_graphviz\n",
    "from six import StringIO\n",
    "from IPython.display import display,SVG\n",
    "import pydotplus\n",
    "\n",
    "dot_data = StringIO()\n",
    "export_graphviz(dtc, out_file=dot_data,  \n",
    "                filled=True, rounded=True,\n",
    "                special_characters=True,class_names=['Serious','Not Serious'])\n",
    "graph = pydotplus.graph_from_dot_data(dot_data.getvalue())  "
   ]
  },
  {
   "cell_type": "code",
   "execution_count": 27,
   "id": "de2a6dc2",
   "metadata": {},
   "outputs": [
    {
     "ename": "InvocationException",
     "evalue": "GraphViz's executables not found",
     "output_type": "error",
     "traceback": [
      "\u001b[0;31m---------------------------------------------------------------------------\u001b[0m",
      "\u001b[0;31mInvocationException\u001b[0m                       Traceback (most recent call last)",
      "\u001b[1;32m/Users/michael/dev/school/cs553/CS553/assignment4/assingment4.ipynb Cell 23'\u001b[0m in \u001b[0;36m<module>\u001b[0;34m\u001b[0m\n\u001b[0;32m----> <a href='vscode-notebook-cell:/Users/michael/dev/school/cs553/CS553/assignment4/assingment4.ipynb#ch0000022?line=0'>1</a>\u001b[0m graph\u001b[39m.\u001b[39;49mwrite_svg(\u001b[39m\"\u001b[39;49m\u001b[39mtree.svg\u001b[39;49m\u001b[39m\"\u001b[39;49m)\n",
      "File \u001b[0;32m/Library/Frameworks/Python.framework/Versions/3.10/lib/python3.10/site-packages/pydotplus/graphviz.py:1810\u001b[0m, in \u001b[0;36mDot.__init__.<locals>.<lambda>\u001b[0;34m(path, f, prog)\u001b[0m\n\u001b[1;32m   <a href='file:///Library/Frameworks/Python.framework/Versions/3.10/lib/python3.10/site-packages/pydotplus/graphviz.py?line=1799'>1800</a>\u001b[0m     f\u001b[39m.\u001b[39m\u001b[39m__doc__\u001b[39m \u001b[39m=\u001b[39m (\n\u001b[1;32m   <a href='file:///Library/Frameworks/Python.framework/Versions/3.10/lib/python3.10/site-packages/pydotplus/graphviz.py?line=1800'>1801</a>\u001b[0m         \u001b[39m'''Refer to the docstring accompanying the'''\u001b[39;00m\n\u001b[1;32m   <a href='file:///Library/Frameworks/Python.framework/Versions/3.10/lib/python3.10/site-packages/pydotplus/graphviz.py?line=1801'>1802</a>\u001b[0m         \u001b[39m''''create' method for more information.'''\u001b[39;00m\n\u001b[1;32m   <a href='file:///Library/Frameworks/Python.framework/Versions/3.10/lib/python3.10/site-packages/pydotplus/graphviz.py?line=1802'>1803</a>\u001b[0m     )\n\u001b[1;32m   <a href='file:///Library/Frameworks/Python.framework/Versions/3.10/lib/python3.10/site-packages/pydotplus/graphviz.py?line=1804'>1805</a>\u001b[0m \u001b[39mfor\u001b[39;00m frmt \u001b[39min\u001b[39;00m \u001b[39mself\u001b[39m\u001b[39m.\u001b[39mformats \u001b[39m+\u001b[39m [\u001b[39m'\u001b[39m\u001b[39mraw\u001b[39m\u001b[39m'\u001b[39m]:\n\u001b[1;32m   <a href='file:///Library/Frameworks/Python.framework/Versions/3.10/lib/python3.10/site-packages/pydotplus/graphviz.py?line=1805'>1806</a>\u001b[0m     \u001b[39mself\u001b[39m\u001b[39m.\u001b[39m\u001b[39m__setattr__\u001b[39m(\n\u001b[1;32m   <a href='file:///Library/Frameworks/Python.framework/Versions/3.10/lib/python3.10/site-packages/pydotplus/graphviz.py?line=1806'>1807</a>\u001b[0m         \u001b[39m'\u001b[39m\u001b[39mwrite_\u001b[39m\u001b[39m'\u001b[39m \u001b[39m+\u001b[39m frmt,\n\u001b[1;32m   <a href='file:///Library/Frameworks/Python.framework/Versions/3.10/lib/python3.10/site-packages/pydotplus/graphviz.py?line=1807'>1808</a>\u001b[0m         \u001b[39mlambda\u001b[39;00m path,\n\u001b[1;32m   <a href='file:///Library/Frameworks/Python.framework/Versions/3.10/lib/python3.10/site-packages/pydotplus/graphviz.py?line=1808'>1809</a>\u001b[0m         f\u001b[39m=\u001b[39mfrmt,\n\u001b[0;32m-> <a href='file:///Library/Frameworks/Python.framework/Versions/3.10/lib/python3.10/site-packages/pydotplus/graphviz.py?line=1809'>1810</a>\u001b[0m         prog\u001b[39m=\u001b[39m\u001b[39mself\u001b[39m\u001b[39m.\u001b[39mprog: \u001b[39mself\u001b[39;49m\u001b[39m.\u001b[39;49mwrite(path, \u001b[39mformat\u001b[39;49m\u001b[39m=\u001b[39;49mf, prog\u001b[39m=\u001b[39;49mprog)\n\u001b[1;32m   <a href='file:///Library/Frameworks/Python.framework/Versions/3.10/lib/python3.10/site-packages/pydotplus/graphviz.py?line=1810'>1811</a>\u001b[0m     )\n\u001b[1;32m   <a href='file:///Library/Frameworks/Python.framework/Versions/3.10/lib/python3.10/site-packages/pydotplus/graphviz.py?line=1812'>1813</a>\u001b[0m     f \u001b[39m=\u001b[39m \u001b[39mself\u001b[39m\u001b[39m.\u001b[39m\u001b[39m__dict__\u001b[39m[\u001b[39m'\u001b[39m\u001b[39mwrite_\u001b[39m\u001b[39m'\u001b[39m \u001b[39m+\u001b[39m frmt]\n\u001b[1;32m   <a href='file:///Library/Frameworks/Python.framework/Versions/3.10/lib/python3.10/site-packages/pydotplus/graphviz.py?line=1813'>1814</a>\u001b[0m     f\u001b[39m.\u001b[39m\u001b[39m__doc__\u001b[39m \u001b[39m=\u001b[39m (\n\u001b[1;32m   <a href='file:///Library/Frameworks/Python.framework/Versions/3.10/lib/python3.10/site-packages/pydotplus/graphviz.py?line=1814'>1815</a>\u001b[0m         \u001b[39m'''Refer to the docstring accompanying the'''\u001b[39;00m\n\u001b[1;32m   <a href='file:///Library/Frameworks/Python.framework/Versions/3.10/lib/python3.10/site-packages/pydotplus/graphviz.py?line=1815'>1816</a>\u001b[0m         \u001b[39m''''write' method for more information.'''\u001b[39;00m\n\u001b[1;32m   <a href='file:///Library/Frameworks/Python.framework/Versions/3.10/lib/python3.10/site-packages/pydotplus/graphviz.py?line=1816'>1817</a>\u001b[0m     )\n",
      "File \u001b[0;32m/Library/Frameworks/Python.framework/Versions/3.10/lib/python3.10/site-packages/pydotplus/graphviz.py:1918\u001b[0m, in \u001b[0;36mDot.write\u001b[0;34m(self, path, prog, format)\u001b[0m\n\u001b[1;32m   <a href='file:///Library/Frameworks/Python.framework/Versions/3.10/lib/python3.10/site-packages/pydotplus/graphviz.py?line=1914'>1915</a>\u001b[0m         fobj\u001b[39m.\u001b[39mwrite(data)\n\u001b[1;32m   <a href='file:///Library/Frameworks/Python.framework/Versions/3.10/lib/python3.10/site-packages/pydotplus/graphviz.py?line=1916'>1917</a>\u001b[0m     \u001b[39melse\u001b[39;00m:\n\u001b[0;32m-> <a href='file:///Library/Frameworks/Python.framework/Versions/3.10/lib/python3.10/site-packages/pydotplus/graphviz.py?line=1917'>1918</a>\u001b[0m         fobj\u001b[39m.\u001b[39mwrite(\u001b[39mself\u001b[39;49m\u001b[39m.\u001b[39;49mcreate(prog, \u001b[39mformat\u001b[39;49m))\n\u001b[1;32m   <a href='file:///Library/Frameworks/Python.framework/Versions/3.10/lib/python3.10/site-packages/pydotplus/graphviz.py?line=1918'>1919</a>\u001b[0m \u001b[39mfinally\u001b[39;00m:\n\u001b[1;32m   <a href='file:///Library/Frameworks/Python.framework/Versions/3.10/lib/python3.10/site-packages/pydotplus/graphviz.py?line=1919'>1920</a>\u001b[0m     \u001b[39mif\u001b[39;00m close:\n",
      "File \u001b[0;32m/Library/Frameworks/Python.framework/Versions/3.10/lib/python3.10/site-packages/pydotplus/graphviz.py:1959\u001b[0m, in \u001b[0;36mDot.create\u001b[0;34m(self, prog, format)\u001b[0m\n\u001b[1;32m   <a href='file:///Library/Frameworks/Python.framework/Versions/3.10/lib/python3.10/site-packages/pydotplus/graphviz.py?line=1956'>1957</a>\u001b[0m     \u001b[39mself\u001b[39m\u001b[39m.\u001b[39mprogs \u001b[39m=\u001b[39m find_graphviz()\n\u001b[1;32m   <a href='file:///Library/Frameworks/Python.framework/Versions/3.10/lib/python3.10/site-packages/pydotplus/graphviz.py?line=1957'>1958</a>\u001b[0m     \u001b[39mif\u001b[39;00m \u001b[39mself\u001b[39m\u001b[39m.\u001b[39mprogs \u001b[39mis\u001b[39;00m \u001b[39mNone\u001b[39;00m:\n\u001b[0;32m-> <a href='file:///Library/Frameworks/Python.framework/Versions/3.10/lib/python3.10/site-packages/pydotplus/graphviz.py?line=1958'>1959</a>\u001b[0m         \u001b[39mraise\u001b[39;00m InvocationException(\n\u001b[1;32m   <a href='file:///Library/Frameworks/Python.framework/Versions/3.10/lib/python3.10/site-packages/pydotplus/graphviz.py?line=1959'>1960</a>\u001b[0m             \u001b[39m'\u001b[39m\u001b[39mGraphViz\u001b[39m\u001b[39m\\'\u001b[39;00m\u001b[39ms executables not found\u001b[39m\u001b[39m'\u001b[39m)\n\u001b[1;32m   <a href='file:///Library/Frameworks/Python.framework/Versions/3.10/lib/python3.10/site-packages/pydotplus/graphviz.py?line=1961'>1962</a>\u001b[0m \u001b[39mif\u001b[39;00m prog \u001b[39mnot\u001b[39;00m \u001b[39min\u001b[39;00m \u001b[39mself\u001b[39m\u001b[39m.\u001b[39mprogs:\n\u001b[1;32m   <a href='file:///Library/Frameworks/Python.framework/Versions/3.10/lib/python3.10/site-packages/pydotplus/graphviz.py?line=1962'>1963</a>\u001b[0m     \u001b[39mraise\u001b[39;00m InvocationException(\n\u001b[1;32m   <a href='file:///Library/Frameworks/Python.framework/Versions/3.10/lib/python3.10/site-packages/pydotplus/graphviz.py?line=1963'>1964</a>\u001b[0m         \u001b[39m'\u001b[39m\u001b[39mGraphViz\u001b[39m\u001b[39m\\'\u001b[39;00m\u001b[39ms executable \u001b[39m\u001b[39m\"\u001b[39m\u001b[39m%s\u001b[39;00m\u001b[39m\"\u001b[39m\u001b[39m not found\u001b[39m\u001b[39m'\u001b[39m \u001b[39m%\u001b[39m prog)\n",
      "\u001b[0;31mInvocationException\u001b[0m: GraphViz's executables not found"
     ]
    }
   ],
   "source": [
    "graph.write_svg(\"tree.svg\")\n",
    "display(SVG(graph.create_svg()))"
   ]
  },
  {
   "cell_type": "code",
   "execution_count": null,
   "id": "ab91dddd",
   "metadata": {},
   "outputs": [],
   "source": []
  }
 ],
 "metadata": {
  "kernelspec": {
   "display_name": "Python 3 (ipykernel)",
   "language": "python",
   "name": "python3"
  },
  "language_info": {
   "codemirror_mode": {
    "name": "ipython",
    "version": 3
   },
   "file_extension": ".py",
   "mimetype": "text/x-python",
   "name": "python",
   "nbconvert_exporter": "python",
   "pygments_lexer": "ipython3",
   "version": "3.10.0"
  }
 },
 "nbformat": 4,
 "nbformat_minor": 5
}
